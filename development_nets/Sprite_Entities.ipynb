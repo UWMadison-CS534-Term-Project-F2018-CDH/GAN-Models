{
  "nbformat": 4,
  "nbformat_minor": 0,
  "metadata": {
    "colab": {
      "name": "Sprite-Entities.ipynb",
      "version": "0.3.2",
      "provenance": [],
      "collapsed_sections": []
    },
    "kernelspec": {
      "name": "python3",
      "display_name": "Python 3"
    },
    "accelerator": "GPU"
  },
  "cells": [
    {
      "metadata": {
        "id": "pvj_92ZBWYZm",
        "colab_type": "code",
        "colab": {}
      },
      "cell_type": "code",
      "source": [
        "# Makes plots / images embedded in the file\n",
        "%matplotlib inline"
      ],
      "execution_count": 0,
      "outputs": []
    },
    {
      "metadata": {
        "id": "-oqNQ57pn6Zz",
        "colab_type": "code",
        "colab": {}
      },
      "cell_type": "code",
      "source": [
        "from zipfile import ZipFile\n",
        "from urllib.request import urlopen\n",
        "import numpy as np\n",
        "\n",
        "URL = 'https://uwmadison-cs534-term-project-f2018-cdh.github.io/assets/datasets/entities.zip'\n",
        "\n",
        "url = urlopen(URL)\n",
        "output = open('environment.zip','wb')\n",
        "output.write(url.read())\n",
        "output.close()\n",
        "\n",
        "zip_ref = ZipFile('environment.zip', 'r')\n",
        "zip_ref.extractall('./dataset')\n",
        "zip_ref.close()"
      ],
      "execution_count": 0,
      "outputs": []
    },
    {
      "metadata": {
        "id": "HS3Oy4yPPgas",
        "colab_type": "code",
        "outputId": "273f7a49-b2d0-47a3-ded1-2695711d4257",
        "colab": {
          "base_uri": "https://localhost:8080/",
          "height": 34
        }
      },
      "cell_type": "code",
      "source": [
        "# Import data and keras layers\n",
        "\n",
        "from keras import backend as k\n",
        "from keras.models import Model, Sequential\n",
        "from keras.layers import Input, Conv2D, UpSampling2D, Dense, Reshape\n",
        "from keras.layers import Flatten, Dropout, BatchNormalization, Activation\n",
        "from keras.layers.advanced_activations import LeakyReLU\n",
        "from keras.optimizers import Adam\n",
        "from tqdm import tqdm\n",
        "import matplotlib.pyplot as plt"
      ],
      "execution_count": 0,
      "outputs": [
        {
          "output_type": "stream",
          "text": [
            "Using TensorFlow backend.\n"
          ],
          "name": "stderr"
        }
      ]
    },
    {
      "metadata": {
        "id": "J5N4lsjZCwLz",
        "colab_type": "code",
        "outputId": "d7b1d42c-7b24-481f-cf3d-787f293332f2",
        "colab": {
          "base_uri": "https://localhost:8080/",
          "height": 51
        }
      },
      "cell_type": "code",
      "source": [
        "import os\n",
        "\n",
        "files = os.listdir('./dataset/entities')\n",
        "for name in files:\n",
        "    print(name)"
      ],
      "execution_count": 0,
      "outputs": [
        {
          "output_type": "stream",
          "text": [
            "entities_label.npy\n",
            "entities_image.npy\n"
          ],
          "name": "stdout"
        }
      ]
    },
    {
      "metadata": {
        "id": "KPQzxLn_WVXU",
        "colab_type": "code",
        "colab": {}
      },
      "cell_type": "code",
      "source": [
        "x1_train = np.load('./dataset/entities/entities_image.npy')\n",
        "y1_train = np.load('./dataset/entities/entities_label.npy')\n",
        "\n",
        "x1_test = np.array([])\n",
        "y1_test = np.array([])\n",
        "\n",
        "#Optimizer\n",
        "adam = Adam(lr=2e-4, beta_1=0.5)"
      ],
      "execution_count": 0,
      "outputs": []
    },
    {
      "metadata": {
        "id": "Hd_pBeu5Pga_",
        "colab_type": "code",
        "outputId": "6c9bb85d-e552-4679-844a-8b3f3eaff1d8",
        "colab": {
          "base_uri": "https://localhost:8080/",
          "height": 595
        }
      },
      "cell_type": "code",
      "source": [
        "# Creating the generator\n",
        "generator = Sequential()\n",
        "generator.add(Dense(128*8*8, input_dim = 100))\n",
        "generator.add(Activation('relu'))\n",
        "generator.add(Dense(128*8*8))\n",
        "generator.add(Activation('relu'))\n",
        "generator.add(BatchNormalization())\n",
        "generator.add(Reshape((8, 8, 128)))\n",
        "generator.add(UpSampling2D((2,2)))\n",
        "generator.add(Conv2D(64, kernel_size = (5, 5), padding = 'same'))\n",
        "generator.add(Activation('relu'))\n",
        "generator.add(BatchNormalization())\n",
        "generator.add(UpSampling2D((2,2)))\n",
        "generator.add(Conv2D(4, kernel_size = (5, 5), padding = 'same'))\n",
        "generator.add(Activation('tanh'))\n",
        "\n",
        "print(generator.summary())\n",
        "generator.compile(loss = 'binary_crossentropy', optimizer = adam)  "
      ],
      "execution_count": 0,
      "outputs": [
        {
          "output_type": "stream",
          "text": [
            "_________________________________________________________________\n",
            "Layer (type)                 Output Shape              Param #   \n",
            "=================================================================\n",
            "dense_4 (Dense)              (None, 8192)              827392    \n",
            "_________________________________________________________________\n",
            "activation_4 (Activation)    (None, 8192)              0         \n",
            "_________________________________________________________________\n",
            "dense_5 (Dense)              (None, 8192)              67117056  \n",
            "_________________________________________________________________\n",
            "activation_5 (Activation)    (None, 8192)              0         \n",
            "_________________________________________________________________\n",
            "batch_normalization_3 (Batch (None, 8192)              32768     \n",
            "_________________________________________________________________\n",
            "reshape_2 (Reshape)          (None, 8, 8, 128)         0         \n",
            "_________________________________________________________________\n",
            "up_sampling2d_3 (UpSampling2 (None, 16, 16, 128)       0         \n",
            "_________________________________________________________________\n",
            "conv2d_7 (Conv2D)            (None, 16, 16, 64)        204864    \n",
            "_________________________________________________________________\n",
            "activation_6 (Activation)    (None, 16, 16, 64)        0         \n",
            "_________________________________________________________________\n",
            "batch_normalization_4 (Batch (None, 16, 16, 64)        256       \n",
            "_________________________________________________________________\n",
            "up_sampling2d_4 (UpSampling2 (None, 32, 32, 64)        0         \n",
            "_________________________________________________________________\n",
            "conv2d_8 (Conv2D)            (None, 32, 32, 4)         6404      \n",
            "_________________________________________________________________\n",
            "activation_7 (Activation)    (None, 32, 32, 4)         0         \n",
            "=================================================================\n",
            "Total params: 68,188,740\n",
            "Trainable params: 68,172,228\n",
            "Non-trainable params: 16,512\n",
            "_________________________________________________________________\n",
            "None\n"
          ],
          "name": "stdout"
        }
      ]
    },
    {
      "metadata": {
        "id": "VzDKYRjNPgbH",
        "colab_type": "code",
        "outputId": "5325039d-2aaf-4261-bec6-45edab5d552e",
        "colab": {
          "base_uri": "https://localhost:8080/",
          "height": 391
        }
      },
      "cell_type": "code",
      "source": [
        "# Creating the discriminator\n",
        "discriminator = Sequential()\n",
        "discriminator.add(Conv2D(64, kernel_size = (5, 5), strides = (2, 2), padding = 'same', input_shape = (32, 32, 4)))\n",
        "discriminator.add(LeakyReLU(0.2))\n",
        "discriminator.add(Conv2D(128, kernel_size = (5, 5), strides = (2, 2), padding = 'same'))\n",
        "discriminator.add(LeakyReLU(0.2))\n",
        "discriminator.add(Flatten())\n",
        "discriminator.add(Dropout(0.5))\n",
        "discriminator.add(Dense(1, activation = 'sigmoid'))\n",
        "print(discriminator.summary())\n",
        "discriminator.compile(loss = 'binary_crossentropy', optimizer = adam) "
      ],
      "execution_count": 0,
      "outputs": [
        {
          "output_type": "stream",
          "text": [
            "_________________________________________________________________\n",
            "Layer (type)                 Output Shape              Param #   \n",
            "=================================================================\n",
            "conv2d_9 (Conv2D)            (None, 16, 16, 64)        6464      \n",
            "_________________________________________________________________\n",
            "leaky_re_lu_5 (LeakyReLU)    (None, 16, 16, 64)        0         \n",
            "_________________________________________________________________\n",
            "conv2d_10 (Conv2D)           (None, 8, 8, 128)         204928    \n",
            "_________________________________________________________________\n",
            "leaky_re_lu_6 (LeakyReLU)    (None, 8, 8, 128)         0         \n",
            "_________________________________________________________________\n",
            "flatten_3 (Flatten)          (None, 8192)              0         \n",
            "_________________________________________________________________\n",
            "dropout_3 (Dropout)          (None, 8192)              0         \n",
            "_________________________________________________________________\n",
            "dense_6 (Dense)              (None, 1)                 8193      \n",
            "=================================================================\n",
            "Total params: 219,585\n",
            "Trainable params: 219,585\n",
            "Non-trainable params: 0\n",
            "_________________________________________________________________\n",
            "None\n"
          ],
          "name": "stdout"
        }
      ]
    },
    {
      "metadata": {
        "id": "nqgkD7H1PgbO",
        "colab_type": "code",
        "colab": {}
      },
      "cell_type": "code",
      "source": [
        "# Create the GAN\n",
        "discriminator.trainable = False\n",
        "gan = Sequential()\n",
        "gan.add(generator)\n",
        "gan.add(discriminator)\n",
        "gan.compile(loss = 'binary_crossentropy', optimizer = adam)"
      ],
      "execution_count": 0,
      "outputs": []
    },
    {
      "metadata": {
        "id": "LH0ETe4zhzNo",
        "colab_type": "code",
        "colab": {}
      },
      "cell_type": "code",
      "source": [
        "# Visualize generated data\n",
        "def plotGeneratedImages():\n",
        "  generated_images = generator.predict(noise)\n",
        "  fig = plt.figure(figsize=(9, 9))        \n",
        "  for i in range(9):\n",
        "    plt.subplot(3, 3, i+1)\n",
        "    img = np.clip(generated_images[i, :],0,1)\n",
        "    img = img.reshape((32, 32, 4))\n",
        "    plt.tight_layout()\n",
        "    plt.imshow(img)\n",
        "    plt.axis('off')"
      ],
      "execution_count": 0,
      "outputs": []
    },
    {
      "metadata": {
        "scrolled": false,
        "id": "P84lxNCePgbg",
        "colab_type": "code",
        "outputId": "810f8c9f-9970-43fc-ffbc-5ca413e36806",
        "colab": {
          "base_uri": "https://localhost:8080/",
          "height": 2244
        }
      },
      "cell_type": "code",
      "source": [
        "epochs = 1000\n",
        "batch_size = 32\n",
        "\n",
        "batch_count = int(x1_train.shape[0] / batch_size)\n",
        "\n",
        "for epoch in range(epochs):\n",
        "\n",
        "    for index in tqdm(range(batch_count)):\n",
        "        \n",
        "        # Real images\n",
        "        image_batch = x1_train[index * batch_size: (index + 1) * batch_size]\n",
        "        \n",
        "        # Get initial random input for generator\n",
        "        noise = np.random.uniform(-1, 1, size=[batch_size, 100])\n",
        "        # Generating images\n",
        "        generated_data = generator.predict_on_batch(noise)\n",
        "\n",
        "        X = np.concatenate([generated_data, image_batch])\n",
        "        y = np.zeros(2 * batch_size)\n",
        "        y[:batch_size] = 1\n",
        "\n",
        "        # Train discriminator\n",
        "        discriminator.trainable = True\n",
        "        discriminator.train_on_batch(x=X, y=y)\n",
        "\n",
        "        # Train generator \n",
        "        y = np.zeros(batch_size)\n",
        "        discriminator.trainable = False\n",
        "        gan.train_on_batch(x=noise, y=y)\n",
        "        \n",
        "        img = generated_images = generator.predict(noise)   \n",
        "        \n",
        "    \n",
        "plotGeneratedImages()\n"
      ],
      "execution_count": 0,
      "outputs": [
        {
          "output_type": "stream",
          "text": [
            "100%|██████████| 86/86 [00:12<00:00,  7.14it/s]\n",
            "100%|██████████| 86/86 [00:11<00:00,  7.13it/s]\n",
            "100%|██████████| 86/86 [00:11<00:00,  7.14it/s]\n",
            "100%|██████████| 86/86 [00:11<00:00,  7.18it/s]\n",
            "100%|██████████| 86/86 [00:11<00:00,  7.15it/s]\n",
            "100%|██████████| 86/86 [00:12<00:00,  7.19it/s]\n",
            "100%|██████████| 86/86 [00:11<00:00,  7.20it/s]\n",
            "100%|██████████| 86/86 [00:11<00:00,  7.10it/s]\n",
            "100%|██████████| 86/86 [00:12<00:00,  7.11it/s]\n",
            "100%|██████████| 86/86 [00:11<00:00,  7.13it/s]\n",
            "100%|██████████| 86/86 [00:11<00:00,  7.16it/s]\n",
            "100%|██████████| 86/86 [00:11<00:00,  7.16it/s]\n",
            "100%|██████████| 86/86 [00:11<00:00,  7.15it/s]\n",
            "100%|██████████| 86/86 [00:11<00:00,  7.19it/s]\n",
            "100%|██████████| 86/86 [00:11<00:00,  7.17it/s]\n",
            "100%|██████████| 86/86 [00:11<00:00,  7.09it/s]\n",
            "100%|██████████| 86/86 [00:11<00:00,  7.18it/s]\n",
            "100%|██████████| 86/86 [00:11<00:00,  7.06it/s]\n",
            "100%|██████████| 86/86 [00:12<00:00,  7.11it/s]\n",
            "100%|██████████| 86/86 [00:12<00:00,  7.13it/s]\n",
            "100%|██████████| 86/86 [00:12<00:00,  7.18it/s]\n",
            "100%|██████████| 86/86 [00:11<00:00,  7.17it/s]\n",
            "100%|██████████| 86/86 [00:11<00:00,  7.09it/s]\n",
            "100%|██████████| 86/86 [00:11<00:00,  7.10it/s]\n",
            "100%|██████████| 86/86 [00:12<00:00,  7.17it/s]\n",
            "100%|██████████| 86/86 [00:12<00:00,  7.15it/s]\n",
            "100%|██████████| 86/86 [00:12<00:00,  6.66it/s]\n",
            "100%|██████████| 86/86 [00:21<00:00,  3.97it/s]\n",
            "100%|██████████| 86/86 [00:22<00:00,  3.85it/s]\n",
            "100%|██████████| 86/86 [00:22<00:00,  3.66it/s]\n",
            "100%|██████████| 86/86 [00:22<00:00,  3.74it/s]\n",
            "100%|██████████| 86/86 [00:22<00:00,  3.72it/s]\n",
            "100%|██████████| 86/86 [00:22<00:00,  3.81it/s]\n",
            "100%|██████████| 86/86 [00:22<00:00,  3.88it/s]\n",
            "100%|██████████| 86/86 [00:22<00:00,  3.65it/s]\n",
            "100%|██████████| 86/86 [00:22<00:00,  3.93it/s]\n",
            "100%|██████████| 86/86 [00:22<00:00,  3.90it/s]\n",
            "100%|██████████| 86/86 [00:22<00:00,  3.65it/s]\n",
            "100%|██████████| 86/86 [00:22<00:00,  3.69it/s]\n",
            "100%|██████████| 86/86 [00:22<00:00,  3.73it/s]\n",
            "100%|██████████| 86/86 [00:22<00:00,  3.87it/s]\n",
            "100%|██████████| 86/86 [00:22<00:00,  3.79it/s]\n",
            "100%|██████████| 86/86 [00:16<00:00,  7.18it/s]\n",
            "100%|██████████| 86/86 [00:11<00:00,  7.25it/s]\n",
            "100%|██████████| 86/86 [00:12<00:00,  7.13it/s]\n",
            "100%|██████████| 86/86 [00:12<00:00,  7.10it/s]\n",
            "100%|██████████| 86/86 [00:12<00:00,  7.14it/s]\n",
            "100%|██████████| 86/86 [00:11<00:00,  7.21it/s]\n",
            "100%|██████████| 86/86 [00:11<00:00,  7.21it/s]\n",
            "100%|██████████| 86/86 [00:11<00:00,  7.17it/s]\n",
            "100%|██████████| 86/86 [00:11<00:00,  7.20it/s]\n",
            "100%|██████████| 86/86 [00:12<00:00,  6.82it/s]\n",
            "100%|██████████| 86/86 [00:15<00:00,  5.12it/s]\n",
            "100%|██████████| 86/86 [00:16<00:00,  5.11it/s]\n",
            "100%|██████████| 86/86 [00:16<00:00,  5.19it/s]\n",
            "100%|██████████| 86/86 [00:16<00:00,  5.20it/s]\n",
            "100%|██████████| 86/86 [00:16<00:00,  5.05it/s]\n",
            "100%|██████████| 86/86 [00:16<00:00,  5.18it/s]\n",
            "100%|██████████| 86/86 [00:16<00:00,  5.16it/s]\n",
            "100%|██████████| 86/86 [00:16<00:00,  5.22it/s]\n",
            "100%|██████████| 86/86 [00:16<00:00,  4.97it/s]\n",
            "100%|██████████| 86/86 [00:16<00:00,  5.21it/s]\n",
            "100%|██████████| 86/86 [00:16<00:00,  5.23it/s]\n",
            "100%|██████████| 86/86 [00:16<00:00,  5.16it/s]\n",
            "100%|██████████| 86/86 [00:16<00:00,  5.11it/s]\n",
            "100%|██████████| 86/86 [00:16<00:00,  5.13it/s]\n",
            "100%|██████████| 86/86 [00:16<00:00,  5.10it/s]\n",
            "100%|██████████| 86/86 [00:16<00:00,  4.94it/s]\n",
            "100%|██████████| 86/86 [00:16<00:00,  5.22it/s]\n",
            "100%|██████████| 86/86 [00:16<00:00,  5.28it/s]\n",
            "100%|██████████| 86/86 [00:16<00:00,  5.22it/s]\n",
            "100%|██████████| 86/86 [00:16<00:00,  5.10it/s]\n",
            "100%|██████████| 86/86 [00:16<00:00,  5.21it/s]\n",
            "100%|██████████| 86/86 [00:16<00:00,  5.22it/s]\n",
            "100%|██████████| 86/86 [00:16<00:00,  5.19it/s]\n",
            "100%|██████████| 86/86 [00:16<00:00,  5.05it/s]\n",
            "100%|██████████| 86/86 [00:16<00:00,  5.12it/s]\n",
            "100%|██████████| 86/86 [00:16<00:00,  5.32it/s]\n",
            "100%|██████████| 86/86 [00:16<00:00,  5.21it/s]\n",
            "100%|██████████| 86/86 [00:16<00:00,  5.27it/s]\n",
            "100%|██████████| 86/86 [00:16<00:00,  5.09it/s]\n",
            "100%|██████████| 86/86 [00:16<00:00,  5.26it/s]\n",
            "100%|██████████| 86/86 [00:16<00:00,  5.27it/s]\n",
            "100%|██████████| 86/86 [00:16<00:00,  5.22it/s]\n",
            "100%|██████████| 86/86 [00:16<00:00,  5.18it/s]\n",
            "100%|██████████| 86/86 [00:16<00:00,  5.19it/s]\n",
            "100%|██████████| 86/86 [00:16<00:00,  5.17it/s]\n",
            "100%|██████████| 86/86 [00:16<00:00,  5.07it/s]\n",
            "100%|██████████| 86/86 [00:16<00:00,  5.09it/s]\n",
            "100%|██████████| 86/86 [00:16<00:00,  5.16it/s]\n",
            "100%|██████████| 86/86 [00:16<00:00,  5.14it/s]\n",
            "100%|██████████| 86/86 [00:16<00:00,  5.25it/s]\n",
            "100%|██████████| 86/86 [00:16<00:00,  5.17it/s]\n",
            "100%|██████████| 86/86 [00:16<00:00,  5.26it/s]\n",
            "100%|██████████| 86/86 [00:16<00:00,  5.15it/s]\n",
            "100%|██████████| 86/86 [00:16<00:00,  5.25it/s]\n",
            "100%|██████████| 86/86 [00:16<00:00,  5.11it/s]\n",
            "100%|██████████| 86/86 [00:16<00:00,  5.07it/s]\n",
            "100%|██████████| 86/86 [00:16<00:00,  5.19it/s]\n",
            "100%|██████████| 86/86 [00:16<00:00,  5.11it/s]\n",
            "100%|██████████| 86/86 [00:16<00:00,  5.28it/s]\n",
            "100%|██████████| 86/86 [00:16<00:00,  5.27it/s]\n",
            "100%|██████████| 86/86 [00:16<00:00,  5.22it/s]\n",
            "100%|██████████| 86/86 [00:16<00:00,  5.19it/s]\n",
            "100%|██████████| 86/86 [00:16<00:00,  5.07it/s]\n",
            "100%|██████████| 86/86 [00:16<00:00,  5.13it/s]\n",
            "100%|██████████| 86/86 [00:16<00:00,  5.31it/s]\n",
            "100%|██████████| 86/86 [00:16<00:00,  5.23it/s]\n",
            "100%|██████████| 86/86 [00:16<00:00,  5.17it/s]\n",
            "100%|██████████| 86/86 [00:16<00:00,  5.16it/s]\n",
            "100%|██████████| 86/86 [00:16<00:00,  5.18it/s]\n",
            "100%|██████████| 86/86 [00:16<00:00,  5.16it/s]\n",
            "100%|██████████| 86/86 [00:16<00:00,  5.13it/s]\n",
            "100%|██████████| 86/86 [00:16<00:00,  5.09it/s]\n",
            "100%|██████████| 86/86 [00:16<00:00,  5.19it/s]\n",
            "100%|██████████| 86/86 [00:16<00:00,  5.17it/s]\n",
            "100%|██████████| 86/86 [00:16<00:00,  5.23it/s]\n",
            "100%|██████████| 86/86 [00:16<00:00,  5.05it/s]\n",
            "100%|██████████| 86/86 [00:16<00:00,  5.11it/s]\n",
            "100%|██████████| 86/86 [00:16<00:00,  5.04it/s]\n",
            "100%|██████████| 86/86 [00:16<00:00,  5.17it/s]\n",
            "100%|██████████| 86/86 [00:16<00:00,  5.08it/s]\n",
            "100%|██████████| 86/86 [00:16<00:00,  5.21it/s]\n",
            "100%|██████████| 86/86 [00:16<00:00,  5.15it/s]\n",
            "100%|██████████| 86/86 [00:16<00:00,  5.31it/s]\n",
            "100%|██████████| 86/86 [00:16<00:00,  5.15it/s]\n",
            "100%|██████████| 86/86 [00:16<00:00,  5.21it/s]\n",
            "100%|██████████| 86/86 [00:16<00:00,  5.23it/s]\n",
            "100%|██████████| 86/86 [00:16<00:00,  5.19it/s]\n",
            "100%|██████████| 86/86 [00:16<00:00,  5.13it/s]\n",
            "100%|██████████| 86/86 [00:16<00:00,  5.15it/s]\n",
            "100%|██████████| 86/86 [00:16<00:00,  5.19it/s]\n",
            "100%|██████████| 86/86 [00:16<00:00,  5.14it/s]\n",
            "100%|██████████| 86/86 [00:16<00:00,  5.22it/s]\n",
            "100%|██████████| 86/86 [00:16<00:00,  5.19it/s]\n",
            "100%|██████████| 86/86 [00:16<00:00,  5.14it/s]\n",
            "100%|██████████| 86/86 [00:16<00:00,  5.09it/s]\n",
            " 14%|█▍        | 12/86 [00:02<00:14,  5.25it/s]"
          ],
          "name": "stderr"
        }
      ]
    },
    {
      "metadata": {
        "id": "VRcbqVN9xb8N",
        "colab_type": "code",
        "colab": {}
      },
      "cell_type": "code",
      "source": [
        "noise = np.random.uniform(-1, 1, size=[batch_size, 100])\n",
        "plotGeneratedImages()"
      ],
      "execution_count": 0,
      "outputs": []
    },
    {
      "metadata": {
        "id": "iABPuCSm1jvy",
        "colab_type": "code",
        "colab": {}
      },
      "cell_type": "code",
      "source": [
        "from google.colab import files\n",
        "import matplotlib.image as mpimg\n",
        "import uuid\n",
        "\n",
        "images = 20\n",
        "noise = np.random.uniform(-1, 1, size=[images, 100])\n",
        "generated_images = generator.predict(noise)    \n",
        "for i in range(images):\n",
        "  name = str(uuid.uuid4().hex) + '.png'\n",
        "  img = np.reshape(np.clip(generated_images[i, :],0,1),(32, 32, 4))\n",
        "  mpimg.imsave(name, img)             \n",
        "  files.download(name)\n"
      ],
      "execution_count": 0,
      "outputs": []
    },
    {
      "metadata": {
        "id": "TBSgMNzD2BuY",
        "colab_type": "code",
        "colab": {}
      },
      "cell_type": "code",
      "source": [
        ""
      ],
      "execution_count": 0,
      "outputs": []
    }
  ]
}