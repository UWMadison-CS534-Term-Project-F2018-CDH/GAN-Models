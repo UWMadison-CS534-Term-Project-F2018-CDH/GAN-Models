{
  "nbformat": 4,
  "nbformat_minor": 0,
  "metadata": {
    "colab": {
      "name": "Sprite-Items-weapons.ipynb",
      "version": "0.3.2",
      "provenance": [],
      "collapsed_sections": []
    },
    "kernelspec": {
      "name": "python3",
      "display_name": "Python 3"
    },
    "accelerator": "GPU"
  },
  "cells": [
    {
      "metadata": {
        "id": "pvj_92ZBWYZm",
        "colab_type": "code",
        "colab": {}
      },
      "cell_type": "code",
      "source": [
        "# Makes plots / images embedded in the file\n",
        "%matplotlib inline"
      ],
      "execution_count": 0,
      "outputs": []
    },
    {
      "metadata": {
        "id": "-oqNQ57pn6Zz",
        "colab_type": "code",
        "colab": {}
      },
      "cell_type": "code",
      "source": [
        "from zipfile import ZipFile\n",
        "from urllib.request import urlopen\n",
        "import numpy as np\n",
        "\n",
        "URL = 'https://uwmadison-cs534-term-project-f2018-cdh.github.io/assets/datasets/items.zip'\n",
        "\n",
        "url = urlopen(URL)\n",
        "output = open('items.zip','wb')\n",
        "output.write(url.read())\n",
        "output.close()\n",
        "\n",
        "zip_ref = ZipFile('items.zip', 'r')\n",
        "zip_ref.extractall('./dataset')\n",
        "zip_ref.close()"
      ],
      "execution_count": 0,
      "outputs": []
    },
    {
      "metadata": {
        "id": "HS3Oy4yPPgas",
        "colab_type": "code",
        "colab": {}
      },
      "cell_type": "code",
      "source": [
        "# Import data and keras layers\n",
        "\n",
        "from keras import backend as k\n",
        "from keras.models import Model, Sequential\n",
        "from keras.layers import Input, Conv2D, UpSampling2D, Dense, Reshape\n",
        "from keras.layers import Flatten, Dropout, BatchNormalization, Activation\n",
        "from keras.layers.advanced_activations import LeakyReLU\n",
        "from keras.optimizers import Adam\n",
        "from tqdm import tqdm\n",
        "import matplotlib.pyplot as plt"
      ],
      "execution_count": 0,
      "outputs": []
    },
    {
      "metadata": {
        "id": "J5N4lsjZCwLz",
        "colab_type": "code",
        "outputId": "b67b83a0-f94a-492c-d903-8c5f2fab6574",
        "colab": {
          "base_uri": "https://localhost:8080/",
          "height": 51
        }
      },
      "cell_type": "code",
      "source": [
        "import os\n",
        "\n",
        "files = os.listdir('./dataset/items')\n",
        "for name in files:\n",
        "    print(name)"
      ],
      "execution_count": 0,
      "outputs": [
        {
          "output_type": "stream",
          "text": [
            "items_image.npy\n",
            "items_label.npy\n"
          ],
          "name": "stdout"
        }
      ]
    },
    {
      "metadata": {
        "id": "KPQzxLn_WVXU",
        "colab_type": "code",
        "colab": {}
      },
      "cell_type": "code",
      "source": [
        "x1_raw = np.load('./dataset/items/items_image.npy')\n",
        "y1_raw = np.load('./dataset/items/items_label.npy')\n",
        "\n",
        "x1_test = np.array([])\n",
        "y1_test = np.array([])\n",
        "\n",
        "#Optimizer\n",
        "adam = Adam(lr=2e-4, beta_1=0.5)"
      ],
      "execution_count": 0,
      "outputs": []
    },
    {
      "metadata": {
        "id": "o07BtpddRPH5",
        "colab_type": "code",
        "colab": {}
      },
      "cell_type": "code",
      "source": [
        "filterLbls = ['items_weapon','items_weapons','items_weapon_ranged','items_weapon_artefact']\n",
        "#'items_wand','items_staff','items_rod'\n",
        "\n",
        "y1_train = []\n",
        "\n",
        "firstTime = True\n",
        "for i in range(y1_raw.shape[0]):\n",
        "  \n",
        "  if y1_raw[i] in filterLbls:\n",
        "    y1_train.append(y1_raw[i])\n",
        "    \n",
        "    if firstTime:\n",
        "      firstTime = False\n",
        "      raw = x1_raw[i,:,:,:]\n",
        "      x1_train = np.reshape(raw,(1,raw.shape[0],raw.shape[1],raw.shape[2]))\n",
        "    else:\n",
        "      raw = x1_raw[i,:,:,:]\n",
        "      raw = np.reshape(raw,(1,raw.shape[0],raw.shape[1],raw.shape[2]))\n",
        "      x1_train = np.concatenate((x1_train,raw), axis=0)\n",
        "    \n",
        "y1_train = np.array(y1_train)\n"
      ],
      "execution_count": 0,
      "outputs": []
    },
    {
      "metadata": {
        "id": "yOWY_c8vpPiz",
        "colab_type": "code",
        "colab": {}
      },
      "cell_type": "code",
      "source": [
        "from keras.preprocessing.image import ImageDataGenerator\n",
        "\n",
        "datagen = ImageDataGenerator(\n",
        "  featurewise_center = True,\n",
        "  featurewise_std_normalization = True,\n",
        "  rotation_range = 60,\n",
        "  width_shift_range = 0.2,\n",
        "  height_shift_range = 0.2,\n",
        "  shear_range = 0.2,\n",
        "  zoom_range = 0.2\n",
        ")\n",
        "\n",
        "datagen.fit(x1_train)"
      ],
      "execution_count": 0,
      "outputs": []
    },
    {
      "metadata": {
        "id": "Hd_pBeu5Pga_",
        "colab_type": "code",
        "outputId": "665c8144-1057-40dd-fa8c-288587951198",
        "colab": {
          "base_uri": "https://localhost:8080/",
          "height": 527
        }
      },
      "cell_type": "code",
      "source": [
        "# Creating the generator\n",
        "generator = Sequential()\n",
        "generator.add(Dense(128*8*8, input_dim = 100))\n",
        "generator.add(Activation('relu'))\n",
        "generator.add(BatchNormalization())\n",
        "generator.add(Reshape((8, 8, 128)))\n",
        "generator.add(UpSampling2D((2,2)))\n",
        "generator.add(Conv2D(64, kernel_size = (5, 5), padding = 'same'))\n",
        "generator.add(Activation('relu'))\n",
        "generator.add(BatchNormalization())\n",
        "generator.add(UpSampling2D((2,2)))\n",
        "generator.add(Conv2D(4, kernel_size = (5, 5), padding = 'same'))\n",
        "generator.add(Activation('tanh'))\n",
        "\n",
        "print(generator.summary())\n",
        "generator.compile(loss = 'binary_crossentropy', optimizer = adam)  "
      ],
      "execution_count": 0,
      "outputs": [
        {
          "output_type": "stream",
          "text": [
            "_________________________________________________________________\n",
            "Layer (type)                 Output Shape              Param #   \n",
            "=================================================================\n",
            "dense_6 (Dense)              (None, 8192)              827392    \n",
            "_________________________________________________________________\n",
            "activation_8 (Activation)    (None, 8192)              0         \n",
            "_________________________________________________________________\n",
            "batch_normalization_5 (Batch (None, 8192)              32768     \n",
            "_________________________________________________________________\n",
            "reshape_3 (Reshape)          (None, 8, 8, 128)         0         \n",
            "_________________________________________________________________\n",
            "up_sampling2d_5 (UpSampling2 (None, 16, 16, 128)       0         \n",
            "_________________________________________________________________\n",
            "conv2d_9 (Conv2D)            (None, 16, 16, 64)        204864    \n",
            "_________________________________________________________________\n",
            "activation_9 (Activation)    (None, 16, 16, 64)        0         \n",
            "_________________________________________________________________\n",
            "batch_normalization_6 (Batch (None, 16, 16, 64)        256       \n",
            "_________________________________________________________________\n",
            "up_sampling2d_6 (UpSampling2 (None, 32, 32, 64)        0         \n",
            "_________________________________________________________________\n",
            "conv2d_10 (Conv2D)           (None, 32, 32, 4)         6404      \n",
            "_________________________________________________________________\n",
            "activation_10 (Activation)   (None, 32, 32, 4)         0         \n",
            "=================================================================\n",
            "Total params: 1,071,684\n",
            "Trainable params: 1,055,172\n",
            "Non-trainable params: 16,512\n",
            "_________________________________________________________________\n",
            "None\n"
          ],
          "name": "stdout"
        }
      ]
    },
    {
      "metadata": {
        "id": "VzDKYRjNPgbH",
        "colab_type": "code",
        "outputId": "ff9fe1e3-66c1-4b08-acf5-3dad65989a87",
        "colab": {
          "base_uri": "https://localhost:8080/",
          "height": 391
        }
      },
      "cell_type": "code",
      "source": [
        "# Creating the discriminator\n",
        "discriminator = Sequential()\n",
        "discriminator.add(Conv2D(64, kernel_size = (5, 5), strides = (2, 2), padding = 'same', input_shape = (32, 32, 4)))\n",
        "discriminator.add(LeakyReLU(0.2))\n",
        "discriminator.add(Conv2D(128, kernel_size = (5, 5), strides = (2, 2), padding = 'same'))\n",
        "discriminator.add(LeakyReLU(0.2))\n",
        "discriminator.add(Flatten())\n",
        "discriminator.add(Dropout(0.5))\n",
        "discriminator.add(Dense(1, activation = 'sigmoid'))\n",
        "print(discriminator.summary())\n",
        "discriminator.compile(loss = 'binary_crossentropy', optimizer = adam) "
      ],
      "execution_count": 0,
      "outputs": [
        {
          "output_type": "stream",
          "text": [
            "_________________________________________________________________\n",
            "Layer (type)                 Output Shape              Param #   \n",
            "=================================================================\n",
            "conv2d_11 (Conv2D)           (None, 16, 16, 64)        6464      \n",
            "_________________________________________________________________\n",
            "leaky_re_lu_5 (LeakyReLU)    (None, 16, 16, 64)        0         \n",
            "_________________________________________________________________\n",
            "conv2d_12 (Conv2D)           (None, 8, 8, 128)         204928    \n",
            "_________________________________________________________________\n",
            "leaky_re_lu_6 (LeakyReLU)    (None, 8, 8, 128)         0         \n",
            "_________________________________________________________________\n",
            "flatten_3 (Flatten)          (None, 8192)              0         \n",
            "_________________________________________________________________\n",
            "dropout_3 (Dropout)          (None, 8192)              0         \n",
            "_________________________________________________________________\n",
            "dense_7 (Dense)              (None, 1)                 8193      \n",
            "=================================================================\n",
            "Total params: 219,585\n",
            "Trainable params: 219,585\n",
            "Non-trainable params: 0\n",
            "_________________________________________________________________\n",
            "None\n"
          ],
          "name": "stdout"
        }
      ]
    },
    {
      "metadata": {
        "id": "nqgkD7H1PgbO",
        "colab_type": "code",
        "colab": {}
      },
      "cell_type": "code",
      "source": [
        "# Create the GAN\n",
        "discriminator.trainable = False\n",
        "gan = Sequential()\n",
        "gan.add(generator)\n",
        "gan.add(discriminator)\n",
        "gan.compile(loss = 'binary_crossentropy', optimizer = adam)"
      ],
      "execution_count": 0,
      "outputs": []
    },
    {
      "metadata": {
        "id": "LH0ETe4zhzNo",
        "colab_type": "code",
        "colab": {}
      },
      "cell_type": "code",
      "source": [
        "# Visualize generated data\n",
        "def plotGeneratedImages():\n",
        "  generated_images = generator.predict(noise)\n",
        "  fig = plt.figure(figsize=(9, 9))        \n",
        "  for i in range(9 if generated_images.shape[0] > 9 else generated_images.shape[0]):\n",
        "    plt.subplot(3, 3, i+1)\n",
        "    img = np.clip(generated_images[i, :],0,1)\n",
        "    img = img.reshape((32, 32, 4))\n",
        "    plt.tight_layout()\n",
        "    plt.imshow(img)\n",
        "    plt.axis('off')"
      ],
      "execution_count": 0,
      "outputs": []
    },
    {
      "metadata": {
        "scrolled": false,
        "id": "P84lxNCePgbg",
        "colab_type": "code",
        "outputId": "6d229619-d1d0-4cbe-dc74-c1c744c11feb",
        "colab": {
          "base_uri": "https://localhost:8080/",
          "height": 16992
        }
      },
      "cell_type": "code",
      "source": [
        "epochs = 20\n",
        "batch_size = 16\n",
        "\n",
        "batch_count = int(x1_train.shape[0] / batch_size)\n",
        "\n",
        "iterator = datagen.flow(x1_train, batch_size=batch_size)\n",
        "\n",
        "for epoch in range(epochs):\n",
        "\n",
        "    for index in tqdm(range(batch_count)):\n",
        "        \n",
        "        # Real images\n",
        "        #image_batch = x1_train[index * batch_size: (index + 1) * batch_size]\n",
        "        image_batch = iterator.next()\n",
        "        \n",
        "        # Get initial random input for generator\n",
        "        noise = np.random.uniform(-1, 1, size=[batch_size, 100])\n",
        "        # Generating images\n",
        "        generated_data = generator.predict_on_batch(noise)\n",
        "\n",
        "        X = np.concatenate([generated_data, image_batch])\n",
        "        y = np.zeros(batch_size + image_batch.shape[0])\n",
        "        y[:image_batch.shape[0]] = 1\n",
        "\n",
        "        # Train discriminator\n",
        "        discriminator.trainable = True\n",
        "        discriminator.train_on_batch(x=X, y=y)\n",
        "\n",
        "        # Train generator \n",
        "        y = np.zeros(batch_size)\n",
        "        discriminator.trainable = False\n",
        "        gan.train_on_batch(x=noise, y=y)\n",
        "        \n",
        "        img = generated_images = generator.predict(noise)   \n",
        "        \n",
        "    \n",
        "plotGeneratedImages()\n"
      ],
      "execution_count": 0,
      "outputs": [
        {
          "output_type": "stream",
          "text": [
            "\n",
            "  0%|          | 0/31 [00:00<?, ?it/s]\u001b[A\n",
            "  6%|▋         | 2/31 [00:00<00:01, 19.26it/s]\u001b[A\n",
            " 13%|█▎        | 4/31 [00:00<00:01, 19.32it/s]\u001b[A"
          ],
          "name": "stderr"
        },
        {
          "output_type": "stream",
          "text": [
            "(16, 32, 32, 4)\n",
            "(16, 32, 32, 4)\n",
            "(16, 32, 32, 4)\n",
            "(16, 32, 32, 4)\n"
          ],
          "name": "stdout"
        },
        {
          "output_type": "stream",
          "text": [
            "\n",
            " 19%|█▉        | 6/31 [00:00<00:01, 19.22it/s]\u001b[A\n",
            " 26%|██▌       | 8/31 [00:00<00:01, 19.00it/s]\u001b[A"
          ],
          "name": "stderr"
        },
        {
          "output_type": "stream",
          "text": [
            "(16, 32, 32, 4)\n",
            "(16, 32, 32, 4)\n",
            "(16, 32, 32, 4)\n",
            "(16, 32, 32, 4)\n"
          ],
          "name": "stdout"
        },
        {
          "output_type": "stream",
          "text": [
            "\n",
            " 32%|███▏      | 10/31 [00:00<00:01, 18.72it/s]\u001b[A"
          ],
          "name": "stderr"
        },
        {
          "output_type": "stream",
          "text": [
            "(16, 32, 32, 4)\n",
            "(16, 32, 32, 4)\n",
            "(16, 32, 32, 4)\n",
            "(16, 32, 32, 4)\n"
          ],
          "name": "stdout"
        },
        {
          "output_type": "stream",
          "text": [
            "\n",
            " 42%|████▏     | 13/31 [00:00<00:00, 19.02it/s]\u001b[A\n",
            " 48%|████▊     | 15/31 [00:00<00:00, 19.15it/s]\u001b[A"
          ],
          "name": "stderr"
        },
        {
          "output_type": "stream",
          "text": [
            "(16, 32, 32, 4)\n",
            "(16, 32, 32, 4)\n",
            "(16, 32, 32, 4)\n",
            "(16, 32, 32, 4)\n"
          ],
          "name": "stdout"
        },
        {
          "output_type": "stream",
          "text": [
            "\n",
            " 55%|█████▍    | 17/31 [00:00<00:00, 19.02it/s]\u001b[A\n",
            " 61%|██████▏   | 19/31 [00:00<00:00, 19.03it/s]\u001b[A"
          ],
          "name": "stderr"
        },
        {
          "output_type": "stream",
          "text": [
            "(16, 32, 32, 4)\n",
            "(16, 32, 32, 4)\n",
            "(16, 32, 32, 4)\n",
            "(16, 32, 32, 4)\n"
          ],
          "name": "stdout"
        },
        {
          "output_type": "stream",
          "text": [
            "\n",
            " 68%|██████▊   | 21/31 [00:01<00:00, 19.15it/s]\u001b[A\n",
            " 74%|███████▍  | 23/31 [00:01<00:00, 19.33it/s]\u001b[A"
          ],
          "name": "stderr"
        },
        {
          "output_type": "stream",
          "text": [
            "(16, 32, 32, 4)\n",
            "(16, 32, 32, 4)\n",
            "(16, 32, 32, 4)\n",
            "(16, 32, 32, 4)\n"
          ],
          "name": "stdout"
        },
        {
          "output_type": "stream",
          "text": [
            "\n",
            " 81%|████████  | 25/31 [00:01<00:00, 19.19it/s]\u001b[A\n",
            " 87%|████████▋ | 27/31 [00:01<00:00, 19.39it/s]\u001b[A"
          ],
          "name": "stderr"
        },
        {
          "output_type": "stream",
          "text": [
            "(16, 32, 32, 4)\n",
            "(16, 32, 32, 4)\n",
            "(16, 32, 32, 4)\n",
            "(16, 32, 32, 4)\n"
          ],
          "name": "stdout"
        },
        {
          "output_type": "stream",
          "text": [
            "\n",
            " 94%|█████████▎| 29/31 [00:01<00:00, 19.39it/s]\u001b[A\n",
            "100%|██████████| 31/31 [00:01<00:00, 19.41it/s]\u001b[A\n",
            "\u001b[A\n",
            "  0%|          | 0/31 [00:00<?, ?it/s]\u001b[A"
          ],
          "name": "stderr"
        },
        {
          "output_type": "stream",
          "text": [
            "(16, 32, 32, 4)\n",
            "(16, 32, 32, 4)\n",
            "(16, 32, 32, 4)\n",
            "(15, 32, 32, 4)\n"
          ],
          "name": "stdout"
        },
        {
          "output_type": "stream",
          "text": [
            "\n",
            "  6%|▋         | 2/31 [00:00<00:01, 17.12it/s]\u001b[A\n",
            " 13%|█▎        | 4/31 [00:00<00:01, 17.86it/s]\u001b[A"
          ],
          "name": "stderr"
        },
        {
          "output_type": "stream",
          "text": [
            "(16, 32, 32, 4)\n",
            "(16, 32, 32, 4)\n",
            "(16, 32, 32, 4)\n",
            "(16, 32, 32, 4)\n"
          ],
          "name": "stdout"
        },
        {
          "output_type": "stream",
          "text": [
            "\n",
            " 19%|█▉        | 6/31 [00:00<00:01, 18.04it/s]\u001b[A\n",
            " 26%|██▌       | 8/31 [00:00<00:01, 18.22it/s]\u001b[A"
          ],
          "name": "stderr"
        },
        {
          "output_type": "stream",
          "text": [
            "(16, 32, 32, 4)\n",
            "(16, 32, 32, 4)\n",
            "(16, 32, 32, 4)\n",
            "(16, 32, 32, 4)\n"
          ],
          "name": "stdout"
        },
        {
          "output_type": "stream",
          "text": [
            "\n",
            " 32%|███▏      | 10/31 [00:00<00:01, 18.17it/s]\u001b[A\n",
            " 39%|███▊      | 12/31 [00:00<00:01, 18.21it/s]\u001b[A"
          ],
          "name": "stderr"
        },
        {
          "output_type": "stream",
          "text": [
            "(16, 32, 32, 4)\n",
            "(16, 32, 32, 4)\n",
            "(16, 32, 32, 4)\n",
            "(16, 32, 32, 4)\n"
          ],
          "name": "stdout"
        },
        {
          "output_type": "stream",
          "text": [
            "\n",
            " 45%|████▌     | 14/31 [00:00<00:00, 18.21it/s]\u001b[A\n",
            " 52%|█████▏    | 16/31 [00:00<00:00, 18.36it/s]\u001b[A"
          ],
          "name": "stderr"
        },
        {
          "output_type": "stream",
          "text": [
            "(16, 32, 32, 4)\n",
            "(16, 32, 32, 4)\n",
            "(16, 32, 32, 4)\n",
            "(16, 32, 32, 4)\n"
          ],
          "name": "stdout"
        },
        {
          "output_type": "stream",
          "text": [
            "\n",
            " 58%|█████▊    | 18/31 [00:00<00:00, 17.94it/s]\u001b[A\n",
            " 65%|██████▍   | 20/31 [00:01<00:00, 18.04it/s]\u001b[A"
          ],
          "name": "stderr"
        },
        {
          "output_type": "stream",
          "text": [
            "(16, 32, 32, 4)\n",
            "(16, 32, 32, 4)\n",
            "(16, 32, 32, 4)\n",
            "(16, 32, 32, 4)\n"
          ],
          "name": "stdout"
        },
        {
          "output_type": "stream",
          "text": [
            "\n",
            " 71%|███████   | 22/31 [00:01<00:00, 18.05it/s]\u001b[A\n",
            " 77%|███████▋  | 24/31 [00:01<00:00, 18.23it/s]\u001b[A"
          ],
          "name": "stderr"
        },
        {
          "output_type": "stream",
          "text": [
            "(16, 32, 32, 4)\n",
            "(16, 32, 32, 4)\n",
            "(16, 32, 32, 4)\n",
            "(16, 32, 32, 4)\n"
          ],
          "name": "stdout"
        },
        {
          "output_type": "stream",
          "text": [
            "\n",
            " 84%|████████▍ | 26/31 [00:01<00:00, 18.06it/s]\u001b[A\n",
            " 90%|█████████ | 28/31 [00:01<00:00, 18.36it/s]\u001b[A"
          ],
          "name": "stderr"
        },
        {
          "output_type": "stream",
          "text": [
            "(16, 32, 32, 4)\n",
            "(16, 32, 32, 4)\n",
            "(16, 32, 32, 4)\n",
            "(16, 32, 32, 4)\n"
          ],
          "name": "stdout"
        },
        {
          "output_type": "stream",
          "text": [
            "\n",
            " 97%|█████████▋| 30/31 [00:01<00:00, 18.29it/s]\u001b[A\n",
            "100%|██████████| 31/31 [00:01<00:00, 18.22it/s]\u001b[A\n",
            "  0%|          | 0/31 [00:00<?, ?it/s]\u001b[A"
          ],
          "name": "stderr"
        },
        {
          "output_type": "stream",
          "text": [
            "(16, 32, 32, 4)\n",
            "(16, 32, 32, 4)\n",
            "(16, 32, 32, 4)\n",
            "(15, 32, 32, 4)\n"
          ],
          "name": "stdout"
        },
        {
          "output_type": "stream",
          "text": [
            "\n",
            "  6%|▋         | 2/31 [00:00<00:01, 18.44it/s]\u001b[A\n",
            " 13%|█▎        | 4/31 [00:00<00:01, 18.40it/s]\u001b[A"
          ],
          "name": "stderr"
        },
        {
          "output_type": "stream",
          "text": [
            "(16, 32, 32, 4)\n",
            "(16, 32, 32, 4)\n",
            "(16, 32, 32, 4)\n",
            "(16, 32, 32, 4)\n"
          ],
          "name": "stdout"
        },
        {
          "output_type": "stream",
          "text": [
            "\n",
            " 19%|█▉        | 6/31 [00:00<00:01, 17.89it/s]\u001b[A\n",
            " 26%|██▌       | 8/31 [00:00<00:01, 18.19it/s]\u001b[A\n",
            " 32%|███▏      | 10/31 [00:00<00:01, 18.47it/s]\u001b[A"
          ],
          "name": "stderr"
        },
        {
          "output_type": "stream",
          "text": [
            "(16, 32, 32, 4)\n",
            "(16, 32, 32, 4)\n",
            "(16, 32, 32, 4)\n",
            "(16, 32, 32, 4)\n"
          ],
          "name": "stdout"
        },
        {
          "output_type": "stream",
          "text": [
            "\n",
            " 39%|███▊      | 12/31 [00:00<00:01, 18.15it/s]\u001b[A\n",
            " 45%|████▌     | 14/31 [00:00<00:00, 18.20it/s]"
          ],
          "name": "stderr"
        },
        {
          "output_type": "stream",
          "text": [
            "(16, 32, 32, 4)\n",
            "(16, 32, 32, 4)\n",
            "(16, 32, 32, 4)\n",
            "(16, 32, 32, 4)\n"
          ],
          "name": "stdout"
        },
        {
          "output_type": "stream",
          "text": [
            "\u001b[A\n",
            " 52%|█████▏    | 16/31 [00:00<00:00, 17.79it/s]\u001b[A"
          ],
          "name": "stderr"
        },
        {
          "output_type": "stream",
          "text": [
            "(16, 32, 32, 4)\n",
            "(16, 32, 32, 4)\n",
            "(16, 32, 32, 4)\n",
            "(16, 32, 32, 4)\n"
          ],
          "name": "stdout"
        },
        {
          "output_type": "stream",
          "text": [
            "\n",
            " 58%|█████▊    | 18/31 [00:01<00:00, 17.70it/s]\u001b[A\n",
            " 65%|██████▍   | 20/31 [00:01<00:00, 18.00it/s]\u001b[A\n",
            " 71%|███████   | 22/31 [00:01<00:00, 18.02it/s]\u001b[A"
          ],
          "name": "stderr"
        },
        {
          "output_type": "stream",
          "text": [
            "(16, 32, 32, 4)\n",
            "(16, 32, 32, 4)\n",
            "(16, 32, 32, 4)\n",
            "(16, 32, 32, 4)\n"
          ],
          "name": "stdout"
        },
        {
          "output_type": "stream",
          "text": [
            "\n",
            " 77%|███████▋  | 24/31 [00:01<00:00, 17.78it/s]\u001b[A"
          ],
          "name": "stderr"
        },
        {
          "output_type": "stream",
          "text": [
            "(16, 32, 32, 4)\n",
            "(16, 32, 32, 4)\n",
            "(16, 32, 32, 4)\n",
            "(16, 32, 32, 4)\n"
          ],
          "name": "stdout"
        },
        {
          "output_type": "stream",
          "text": [
            "\n",
            " 84%|████████▍ | 26/31 [00:01<00:00, 17.89it/s]\u001b[A\n",
            " 90%|█████████ | 28/31 [00:01<00:00, 18.14it/s]\u001b[A\n",
            " 97%|█████████▋| 30/31 [00:01<00:00, 18.35it/s]\u001b[A"
          ],
          "name": "stderr"
        },
        {
          "output_type": "stream",
          "text": [
            "(16, 32, 32, 4)\n",
            "(16, 32, 32, 4)\n",
            "(16, 32, 32, 4)\n",
            "(16, 32, 32, 4)\n"
          ],
          "name": "stdout"
        },
        {
          "output_type": "stream",
          "text": [
            "\n",
            "100%|██████████| 31/31 [00:01<00:00, 18.00it/s]\u001b[A\n",
            "  0%|          | 0/31 [00:00<?, ?it/s]\u001b[A\n",
            " 10%|▉         | 3/31 [00:00<00:01, 20.72it/s]\u001b[A"
          ],
          "name": "stderr"
        },
        {
          "output_type": "stream",
          "text": [
            "(16, 32, 32, 4)\n",
            "(16, 32, 32, 4)\n",
            "(16, 32, 32, 4)\n",
            "(15, 32, 32, 4)\n"
          ],
          "name": "stdout"
        },
        {
          "output_type": "stream",
          "text": [
            "\n",
            " 16%|█▌        | 5/31 [00:00<00:01, 20.01it/s]\u001b[A\n",
            " 23%|██▎       | 7/31 [00:00<00:01, 19.40it/s]\u001b[A"
          ],
          "name": "stderr"
        },
        {
          "output_type": "stream",
          "text": [
            "(16, 32, 32, 4)\n",
            "(16, 32, 32, 4)\n",
            "(16, 32, 32, 4)\n",
            "(16, 32, 32, 4)\n"
          ],
          "name": "stdout"
        },
        {
          "output_type": "stream",
          "text": [
            "\n",
            " 29%|██▉       | 9/31 [00:00<00:01, 18.62it/s]\u001b[A"
          ],
          "name": "stderr"
        },
        {
          "output_type": "stream",
          "text": [
            "(16, 32, 32, 4)\n",
            "(16, 32, 32, 4)\n",
            "(16, 32, 32, 4)\n",
            "(16, 32, 32, 4)\n"
          ],
          "name": "stdout"
        },
        {
          "output_type": "stream",
          "text": [
            "\n",
            " 35%|███▌      | 11/31 [00:00<00:01, 17.98it/s]\u001b[A\n",
            " 42%|████▏     | 13/31 [00:00<00:00, 18.23it/s]\u001b[A\n",
            " 48%|████▊     | 15/31 [00:00<00:00, 18.23it/s]"
          ],
          "name": "stderr"
        },
        {
          "output_type": "stream",
          "text": [
            "(16, 32, 32, 4)\n",
            "(16, 32, 32, 4)\n",
            "(16, 32, 32, 4)\n",
            "(16, 32, 32, 4)\n"
          ],
          "name": "stdout"
        },
        {
          "output_type": "stream",
          "text": [
            "\u001b[A\n",
            " 55%|█████▍    | 17/31 [00:00<00:00, 18.08it/s]\u001b[A\n",
            " 61%|██████▏   | 19/31 [00:01<00:00, 18.14it/s]\u001b[A"
          ],
          "name": "stderr"
        },
        {
          "output_type": "stream",
          "text": [
            "(16, 32, 32, 4)\n",
            "(16, 32, 32, 4)\n",
            "(16, 32, 32, 4)\n",
            "(16, 32, 32, 4)\n"
          ],
          "name": "stdout"
        },
        {
          "output_type": "stream",
          "text": [
            "\n",
            " 68%|██████▊   | 21/31 [00:01<00:00, 18.05it/s]\u001b[A\n",
            " 74%|███████▍  | 23/31 [00:01<00:00, 18.24it/s]\u001b[A"
          ],
          "name": "stderr"
        },
        {
          "output_type": "stream",
          "text": [
            "(16, 32, 32, 4)\n",
            "(16, 32, 32, 4)\n",
            "(16, 32, 32, 4)\n",
            "(16, 32, 32, 4)\n"
          ],
          "name": "stdout"
        },
        {
          "output_type": "stream",
          "text": [
            "\n",
            " 81%|████████  | 25/31 [00:01<00:00, 18.15it/s]\u001b[A\n",
            " 87%|████████▋ | 27/31 [00:01<00:00, 18.13it/s]"
          ],
          "name": "stderr"
        },
        {
          "output_type": "stream",
          "text": [
            "(16, 32, 32, 4)\n",
            "(16, 32, 32, 4)\n",
            "(16, 32, 32, 4)\n",
            "(16, 32, 32, 4)\n"
          ],
          "name": "stdout"
        },
        {
          "output_type": "stream",
          "text": [
            "\u001b[A\n",
            " 94%|█████████▎| 29/31 [00:01<00:00, 17.90it/s]\u001b[A"
          ],
          "name": "stderr"
        },
        {
          "output_type": "stream",
          "text": [
            "(16, 32, 32, 4)\n",
            "(16, 32, 32, 4)\n",
            "(16, 32, 32, 4)\n",
            "(16, 32, 32, 4)\n"
          ],
          "name": "stdout"
        },
        {
          "output_type": "stream",
          "text": [
            "\n",
            "100%|██████████| 31/31 [00:01<00:00, 17.74it/s]\u001b[A\n",
            "\u001b[A\n",
            "  0%|          | 0/31 [00:00<?, ?it/s]\u001b[A\n",
            "  6%|▋         | 2/31 [00:00<00:01, 18.41it/s]\u001b[A\n",
            " 13%|█▎        | 4/31 [00:00<00:01, 18.60it/s]\u001b[A"
          ],
          "name": "stderr"
        },
        {
          "output_type": "stream",
          "text": [
            "(16, 32, 32, 4)\n",
            "(16, 32, 32, 4)\n",
            "(16, 32, 32, 4)\n",
            "(15, 32, 32, 4)\n"
          ],
          "name": "stdout"
        },
        {
          "output_type": "stream",
          "text": [
            "\n",
            " 19%|█▉        | 6/31 [00:00<00:01, 18.33it/s]\u001b[A\n",
            " 26%|██▌       | 8/31 [00:00<00:01, 18.43it/s]"
          ],
          "name": "stderr"
        },
        {
          "output_type": "stream",
          "text": [
            "(16, 32, 32, 4)\n",
            "(16, 32, 32, 4)\n",
            "(16, 32, 32, 4)\n",
            "(16, 32, 32, 4)\n"
          ],
          "name": "stdout"
        },
        {
          "output_type": "stream",
          "text": [
            "\u001b[A\n",
            " 32%|███▏      | 10/31 [00:00<00:01, 18.29it/s]\u001b[A\n",
            " 39%|███▊      | 12/31 [00:00<00:01, 18.41it/s]\u001b[A"
          ],
          "name": "stderr"
        },
        {
          "output_type": "stream",
          "text": [
            "(16, 32, 32, 4)\n",
            "(16, 32, 32, 4)\n",
            "(16, 32, 32, 4)\n",
            "(16, 32, 32, 4)\n"
          ],
          "name": "stdout"
        },
        {
          "output_type": "stream",
          "text": [
            "\n",
            " 45%|████▌     | 14/31 [00:00<00:00, 18.43it/s]\u001b[A\n",
            " 52%|█████▏    | 16/31 [00:00<00:00, 18.46it/s]\u001b[A"
          ],
          "name": "stderr"
        },
        {
          "output_type": "stream",
          "text": [
            "(16, 32, 32, 4)\n",
            "(16, 32, 32, 4)\n",
            "(16, 32, 32, 4)\n",
            "(16, 32, 32, 4)\n"
          ],
          "name": "stdout"
        },
        {
          "output_type": "stream",
          "text": [
            "\n",
            " 58%|█████▊    | 18/31 [00:00<00:00, 17.91it/s]\u001b[A"
          ],
          "name": "stderr"
        },
        {
          "output_type": "stream",
          "text": [
            "(16, 32, 32, 4)\n",
            "(16, 32, 32, 4)\n",
            "(16, 32, 32, 4)\n",
            "(16, 32, 32, 4)\n"
          ],
          "name": "stdout"
        },
        {
          "output_type": "stream",
          "text": [
            "\n",
            " 65%|██████▍   | 20/31 [00:01<00:00, 17.86it/s]\u001b[A\n",
            " 71%|███████   | 22/31 [00:01<00:00, 17.98it/s]\u001b[A"
          ],
          "name": "stderr"
        },
        {
          "output_type": "stream",
          "text": [
            "(16, 32, 32, 4)\n",
            "(16, 32, 32, 4)\n",
            "(16, 32, 32, 4)\n",
            "(16, 32, 32, 4)\n"
          ],
          "name": "stdout"
        },
        {
          "output_type": "stream",
          "text": [
            "\n",
            " 77%|███████▋  | 24/31 [00:01<00:00, 17.85it/s]\u001b[A\n",
            " 84%|████████▍ | 26/31 [00:01<00:00, 17.95it/s]\u001b[A"
          ],
          "name": "stderr"
        },
        {
          "output_type": "stream",
          "text": [
            "(16, 32, 32, 4)\n",
            "(16, 32, 32, 4)\n",
            "(16, 32, 32, 4)\n",
            "(16, 32, 32, 4)\n"
          ],
          "name": "stdout"
        },
        {
          "output_type": "stream",
          "text": [
            "\n",
            " 90%|█████████ | 28/31 [00:01<00:00, 17.83it/s]\u001b[A\n",
            " 97%|█████████▋| 30/31 [00:01<00:00, 17.85it/s]\u001b[A\n",
            "100%|██████████| 31/31 [00:01<00:00, 18.00it/s]\u001b[A\n",
            "  0%|          | 0/31 [00:00<?, ?it/s]\u001b[A"
          ],
          "name": "stderr"
        },
        {
          "output_type": "stream",
          "text": [
            "(16, 32, 32, 4)\n",
            "(16, 32, 32, 4)\n",
            "(16, 32, 32, 4)\n",
            "(16, 32, 32, 4)\n"
          ],
          "name": "stdout"
        },
        {
          "output_type": "stream",
          "text": [
            "\n",
            "  6%|▋         | 2/31 [00:00<00:01, 18.52it/s]\u001b[A\n",
            " 13%|█▎        | 4/31 [00:00<00:01, 17.80it/s]\u001b[A"
          ],
          "name": "stderr"
        },
        {
          "output_type": "stream",
          "text": [
            "(16, 32, 32, 4)\n",
            "(16, 32, 32, 4)\n",
            "(16, 32, 32, 4)\n",
            "(15, 32, 32, 4)\n"
          ],
          "name": "stdout"
        },
        {
          "output_type": "stream",
          "text": [
            "\n",
            " 19%|█▉        | 6/31 [00:00<00:01, 17.73it/s]\u001b[A\n",
            " 26%|██▌       | 8/31 [00:00<00:01, 17.98it/s]\u001b[A"
          ],
          "name": "stderr"
        },
        {
          "output_type": "stream",
          "text": [
            "(16, 32, 32, 4)\n",
            "(16, 32, 32, 4)\n",
            "(16, 32, 32, 4)\n",
            "(16, 32, 32, 4)\n"
          ],
          "name": "stdout"
        },
        {
          "output_type": "stream",
          "text": [
            "\n",
            " 32%|███▏      | 10/31 [00:00<00:01, 18.03it/s]\u001b[A\n",
            " 39%|███▊      | 12/31 [00:00<00:01, 17.97it/s]\u001b[A"
          ],
          "name": "stderr"
        },
        {
          "output_type": "stream",
          "text": [
            "(16, 32, 32, 4)\n",
            "(16, 32, 32, 4)\n",
            "(16, 32, 32, 4)\n",
            "(16, 32, 32, 4)\n"
          ],
          "name": "stdout"
        },
        {
          "output_type": "stream",
          "text": [
            "\n",
            " 45%|████▌     | 14/31 [00:00<00:00, 18.03it/s]\u001b[A\n",
            " 52%|█████▏    | 16/31 [00:00<00:00, 18.06it/s]\u001b[A"
          ],
          "name": "stderr"
        },
        {
          "output_type": "stream",
          "text": [
            "(16, 32, 32, 4)\n",
            "(16, 32, 32, 4)\n",
            "(16, 32, 32, 4)\n",
            "(16, 32, 32, 4)\n"
          ],
          "name": "stdout"
        },
        {
          "output_type": "stream",
          "text": [
            "\n",
            " 58%|█████▊    | 18/31 [00:01<00:00, 18.15it/s]\u001b[A\n",
            " 65%|██████▍   | 20/31 [00:01<00:00, 18.24it/s]\u001b[A"
          ],
          "name": "stderr"
        },
        {
          "output_type": "stream",
          "text": [
            "(16, 32, 32, 4)\n",
            "(16, 32, 32, 4)\n",
            "(16, 32, 32, 4)\n",
            "(16, 32, 32, 4)\n"
          ],
          "name": "stdout"
        },
        {
          "output_type": "stream",
          "text": [
            "\n",
            " 71%|███████   | 22/31 [00:01<00:00, 17.96it/s]\u001b[A\n",
            " 77%|███████▋  | 24/31 [00:01<00:00, 17.81it/s]\u001b[A"
          ],
          "name": "stderr"
        },
        {
          "output_type": "stream",
          "text": [
            "(16, 32, 32, 4)\n",
            "(16, 32, 32, 4)\n",
            "(16, 32, 32, 4)\n",
            "(16, 32, 32, 4)\n"
          ],
          "name": "stdout"
        },
        {
          "output_type": "stream",
          "text": [
            "\n",
            " 84%|████████▍ | 26/31 [00:01<00:00, 17.82it/s]\u001b[A\n",
            " 90%|█████████ | 28/31 [00:01<00:00, 18.09it/s]\u001b[A"
          ],
          "name": "stderr"
        },
        {
          "output_type": "stream",
          "text": [
            "(16, 32, 32, 4)\n",
            "(16, 32, 32, 4)\n",
            "(16, 32, 32, 4)\n",
            "(16, 32, 32, 4)\n"
          ],
          "name": "stdout"
        },
        {
          "output_type": "stream",
          "text": [
            "\n",
            " 97%|█████████▋| 30/31 [00:01<00:00, 18.09it/s]\u001b[A\n",
            "100%|██████████| 31/31 [00:01<00:00, 17.92it/s]\u001b[A\n",
            "  0%|          | 0/31 [00:00<?, ?it/s]\u001b[A"
          ],
          "name": "stderr"
        },
        {
          "output_type": "stream",
          "text": [
            "(16, 32, 32, 4)\n",
            "(16, 32, 32, 4)\n",
            "(16, 32, 32, 4)\n",
            "(16, 32, 32, 4)\n"
          ],
          "name": "stdout"
        },
        {
          "output_type": "stream",
          "text": [
            "\n",
            "  6%|▋         | 2/31 [00:00<00:01, 19.78it/s]\u001b[A\n",
            " 13%|█▎        | 4/31 [00:00<00:01, 19.33it/s]\u001b[A"
          ],
          "name": "stderr"
        },
        {
          "output_type": "stream",
          "text": [
            "(16, 32, 32, 4)\n",
            "(16, 32, 32, 4)\n",
            "(16, 32, 32, 4)\n",
            "(15, 32, 32, 4)\n"
          ],
          "name": "stdout"
        },
        {
          "output_type": "stream",
          "text": [
            "\n",
            " 19%|█▉        | 6/31 [00:00<00:01, 18.75it/s]\u001b[A\n",
            " 26%|██▌       | 8/31 [00:00<00:01, 18.55it/s]\u001b[A"
          ],
          "name": "stderr"
        },
        {
          "output_type": "stream",
          "text": [
            "(16, 32, 32, 4)\n",
            "(16, 32, 32, 4)\n",
            "(16, 32, 32, 4)\n",
            "(16, 32, 32, 4)\n"
          ],
          "name": "stdout"
        },
        {
          "output_type": "stream",
          "text": [
            "\n",
            " 32%|███▏      | 10/31 [00:00<00:01, 17.88it/s]\u001b[A\n",
            " 39%|███▊      | 12/31 [00:00<00:01, 17.93it/s]\u001b[A"
          ],
          "name": "stderr"
        },
        {
          "output_type": "stream",
          "text": [
            "(16, 32, 32, 4)\n",
            "(16, 32, 32, 4)\n",
            "(16, 32, 32, 4)\n",
            "(16, 32, 32, 4)\n"
          ],
          "name": "stdout"
        },
        {
          "output_type": "stream",
          "text": [
            "\n",
            " 45%|████▌     | 14/31 [00:00<00:00, 17.92it/s]\u001b[A\n",
            " 52%|█████▏    | 16/31 [00:00<00:00, 18.22it/s]\u001b[A\n",
            " 58%|█████▊    | 18/31 [00:00<00:00, 18.14it/s]\u001b[A"
          ],
          "name": "stderr"
        },
        {
          "output_type": "stream",
          "text": [
            "(16, 32, 32, 4)\n",
            "(16, 32, 32, 4)\n",
            "(16, 32, 32, 4)\n",
            "(16, 32, 32, 4)\n"
          ],
          "name": "stdout"
        },
        {
          "output_type": "stream",
          "text": [
            "\n",
            " 65%|██████▍   | 20/31 [00:01<00:00, 18.07it/s]\u001b[A\n",
            " 71%|███████   | 22/31 [00:01<00:00, 18.13it/s]"
          ],
          "name": "stderr"
        },
        {
          "output_type": "stream",
          "text": [
            "(16, 32, 32, 4)\n",
            "(16, 32, 32, 4)\n",
            "(16, 32, 32, 4)\n",
            "(16, 32, 32, 4)\n"
          ],
          "name": "stdout"
        },
        {
          "output_type": "stream",
          "text": [
            "\u001b[A\n",
            " 77%|███████▋  | 24/31 [00:01<00:00, 18.18it/s]\u001b[A\n",
            " 84%|████████▍ | 26/31 [00:01<00:00, 18.17it/s]"
          ],
          "name": "stderr"
        },
        {
          "output_type": "stream",
          "text": [
            "(16, 32, 32, 4)\n",
            "(16, 32, 32, 4)\n",
            "(16, 32, 32, 4)\n",
            "(16, 32, 32, 4)\n"
          ],
          "name": "stdout"
        },
        {
          "output_type": "stream",
          "text": [
            "\u001b[A\n",
            " 90%|█████████ | 28/31 [00:01<00:00, 18.00it/s]\u001b[A"
          ],
          "name": "stderr"
        },
        {
          "output_type": "stream",
          "text": [
            "(16, 32, 32, 4)\n",
            "(16, 32, 32, 4)\n",
            "(16, 32, 32, 4)\n",
            "(16, 32, 32, 4)\n"
          ],
          "name": "stdout"
        },
        {
          "output_type": "stream",
          "text": [
            "\n",
            " 97%|█████████▋| 30/31 [00:01<00:00, 17.71it/s]\u001b[A\n",
            "100%|██████████| 31/31 [00:01<00:00, 17.94it/s]\u001b[A\n",
            "  0%|          | 0/31 [00:00<?, ?it/s]\u001b[A\n",
            "  6%|▋         | 2/31 [00:00<00:01, 18.76it/s]\u001b[A"
          ],
          "name": "stderr"
        },
        {
          "output_type": "stream",
          "text": [
            "(16, 32, 32, 4)\n",
            "(16, 32, 32, 4)\n",
            "(16, 32, 32, 4)\n",
            "(16, 32, 32, 4)\n"
          ],
          "name": "stdout"
        },
        {
          "output_type": "stream",
          "text": [
            "\n",
            " 13%|█▎        | 4/31 [00:00<00:01, 18.57it/s]\u001b[A\n",
            " 19%|█▉        | 6/31 [00:00<00:01, 18.62it/s]\u001b[A"
          ],
          "name": "stderr"
        },
        {
          "output_type": "stream",
          "text": [
            "(16, 32, 32, 4)\n",
            "(16, 32, 32, 4)\n",
            "(16, 32, 32, 4)\n",
            "(15, 32, 32, 4)\n"
          ],
          "name": "stdout"
        },
        {
          "output_type": "stream",
          "text": [
            "\n",
            " 26%|██▌       | 8/31 [00:00<00:01, 18.46it/s]\u001b[A\n",
            " 32%|███▏      | 10/31 [00:00<00:01, 18.62it/s]\u001b[A"
          ],
          "name": "stderr"
        },
        {
          "output_type": "stream",
          "text": [
            "(16, 32, 32, 4)\n",
            "(16, 32, 32, 4)\n",
            "(16, 32, 32, 4)\n",
            "(16, 32, 32, 4)\n"
          ],
          "name": "stdout"
        },
        {
          "output_type": "stream",
          "text": [
            "\n",
            " 39%|███▊      | 12/31 [00:00<00:01, 18.32it/s]\u001b[A\n",
            " 45%|████▌     | 14/31 [00:00<00:00, 18.40it/s]\u001b[A"
          ],
          "name": "stderr"
        },
        {
          "output_type": "stream",
          "text": [
            "(16, 32, 32, 4)\n",
            "(16, 32, 32, 4)\n",
            "(16, 32, 32, 4)\n",
            "(16, 32, 32, 4)\n"
          ],
          "name": "stdout"
        },
        {
          "output_type": "stream",
          "text": [
            "\n",
            " 52%|█████▏    | 16/31 [00:00<00:00, 17.83it/s]\u001b[A\n",
            " 58%|█████▊    | 18/31 [00:00<00:00, 18.05it/s]\u001b[A"
          ],
          "name": "stderr"
        },
        {
          "output_type": "stream",
          "text": [
            "(16, 32, 32, 4)\n",
            "(16, 32, 32, 4)\n",
            "(16, 32, 32, 4)\n",
            "(16, 32, 32, 4)\n"
          ],
          "name": "stdout"
        },
        {
          "output_type": "stream",
          "text": [
            "\n",
            " 65%|██████▍   | 20/31 [00:01<00:00, 18.10it/s]\u001b[A\n",
            " 71%|███████   | 22/31 [00:01<00:00, 18.43it/s]\u001b[A"
          ],
          "name": "stderr"
        },
        {
          "output_type": "stream",
          "text": [
            "(16, 32, 32, 4)\n",
            "(16, 32, 32, 4)\n",
            "(16, 32, 32, 4)\n",
            "(16, 32, 32, 4)\n"
          ],
          "name": "stdout"
        },
        {
          "output_type": "stream",
          "text": [
            "\n",
            " 77%|███████▋  | 24/31 [00:01<00:00, 17.98it/s]\u001b[A\n",
            " 84%|████████▍ | 26/31 [00:01<00:00, 18.18it/s]\u001b[A"
          ],
          "name": "stderr"
        },
        {
          "output_type": "stream",
          "text": [
            "(16, 32, 32, 4)\n",
            "(16, 32, 32, 4)\n",
            "(16, 32, 32, 4)\n",
            "(16, 32, 32, 4)\n"
          ],
          "name": "stdout"
        },
        {
          "output_type": "stream",
          "text": [
            "\n",
            " 90%|█████████ | 28/31 [00:01<00:00, 18.11it/s]\u001b[A\n",
            " 97%|█████████▋| 30/31 [00:01<00:00, 18.29it/s]\u001b[A"
          ],
          "name": "stderr"
        },
        {
          "output_type": "stream",
          "text": [
            "(16, 32, 32, 4)\n",
            "(16, 32, 32, 4)\n",
            "(16, 32, 32, 4)\n",
            "(16, 32, 32, 4)\n"
          ],
          "name": "stdout"
        },
        {
          "output_type": "stream",
          "text": [
            "\n",
            "100%|██████████| 31/31 [00:01<00:00, 18.17it/s]\u001b[A\n",
            "  0%|          | 0/31 [00:00<?, ?it/s]\u001b[A\n",
            "  6%|▋         | 2/31 [00:00<00:01, 19.05it/s]\u001b[A\n",
            " 13%|█▎        | 4/31 [00:00<00:01, 18.55it/s]"
          ],
          "name": "stderr"
        },
        {
          "output_type": "stream",
          "text": [
            "(16, 32, 32, 4)\n",
            "(16, 32, 32, 4)\n",
            "(16, 32, 32, 4)\n",
            "(16, 32, 32, 4)\n"
          ],
          "name": "stdout"
        },
        {
          "output_type": "stream",
          "text": [
            "\u001b[A\n",
            " 19%|█▉        | 6/31 [00:00<00:01, 18.23it/s]\u001b[A"
          ],
          "name": "stderr"
        },
        {
          "output_type": "stream",
          "text": [
            "(16, 32, 32, 4)\n",
            "(16, 32, 32, 4)\n",
            "(16, 32, 32, 4)\n",
            "(15, 32, 32, 4)\n"
          ],
          "name": "stdout"
        },
        {
          "output_type": "stream",
          "text": [
            "\n",
            " 26%|██▌       | 8/31 [00:00<00:01, 18.23it/s]\u001b[A\n",
            " 32%|███▏      | 10/31 [00:00<00:01, 18.23it/s]\u001b[A\n",
            " 39%|███▊      | 12/31 [00:00<00:01, 18.29it/s]\u001b[A"
          ],
          "name": "stderr"
        },
        {
          "output_type": "stream",
          "text": [
            "(16, 32, 32, 4)\n",
            "(16, 32, 32, 4)\n",
            "(16, 32, 32, 4)\n",
            "(16, 32, 32, 4)\n"
          ],
          "name": "stdout"
        },
        {
          "output_type": "stream",
          "text": [
            "\n",
            " 45%|████▌     | 14/31 [00:00<00:00, 18.24it/s]\u001b[A\n"
          ],
          "name": "stderr"
        },
        {
          "output_type": "stream",
          "text": [
            "(16, 32, 32, 4)\n",
            "(16, 32, 32, 4)\n",
            "(16, 32, 32, 4)\n",
            "(16, 32, 32, 4)\n"
          ],
          "name": "stdout"
        },
        {
          "output_type": "stream",
          "text": [
            " 52%|█████▏    | 16/31 [00:00<00:00, 18.26it/s]\u001b[A\n",
            " 58%|█████▊    | 18/31 [00:00<00:00, 18.18it/s]\u001b[A\n",
            " 65%|██████▍   | 20/31 [00:01<00:00, 18.34it/s]\u001b[A"
          ],
          "name": "stderr"
        },
        {
          "output_type": "stream",
          "text": [
            "(16, 32, 32, 4)\n",
            "(16, 32, 32, 4)\n",
            "(16, 32, 32, 4)\n",
            "(16, 32, 32, 4)\n"
          ],
          "name": "stdout"
        },
        {
          "output_type": "stream",
          "text": [
            "\n",
            " 71%|███████   | 22/31 [00:01<00:00, 17.80it/s]\u001b[A"
          ],
          "name": "stderr"
        },
        {
          "output_type": "stream",
          "text": [
            "(16, 32, 32, 4)\n",
            "(16, 32, 32, 4)\n",
            "(16, 32, 32, 4)\n",
            "(16, 32, 32, 4)\n"
          ],
          "name": "stdout"
        },
        {
          "output_type": "stream",
          "text": [
            "\n",
            " 77%|███████▋  | 24/31 [00:01<00:00, 17.82it/s]\u001b[A\n",
            " 84%|████████▍ | 26/31 [00:01<00:00, 18.08it/s]\u001b[A\n",
            " 90%|█████████ | 28/31 [00:01<00:00, 18.30it/s]\u001b[A"
          ],
          "name": "stderr"
        },
        {
          "output_type": "stream",
          "text": [
            "(16, 32, 32, 4)\n",
            "(16, 32, 32, 4)\n",
            "(16, 32, 32, 4)\n",
            "(16, 32, 32, 4)\n"
          ],
          "name": "stdout"
        },
        {
          "output_type": "stream",
          "text": [
            "\n",
            " 97%|█████████▋| 30/31 [00:01<00:00, 18.23it/s]\u001b[A\n",
            "100%|██████████| 31/31 [00:01<00:00, 18.12it/s]\u001b[A\n",
            "  0%|          | 0/31 [00:00<?, ?it/s]\u001b[A"
          ],
          "name": "stderr"
        },
        {
          "output_type": "stream",
          "text": [
            "(16, 32, 32, 4)\n",
            "(16, 32, 32, 4)\n",
            "(16, 32, 32, 4)\n",
            "(16, 32, 32, 4)\n"
          ],
          "name": "stdout"
        },
        {
          "output_type": "stream",
          "text": [
            "\n",
            "  6%|▋         | 2/31 [00:00<00:01, 19.04it/s]\u001b[A\n",
            " 13%|█▎        | 4/31 [00:00<00:01, 18.74it/s]\u001b[A"
          ],
          "name": "stderr"
        },
        {
          "output_type": "stream",
          "text": [
            "(16, 32, 32, 4)\n",
            "(16, 32, 32, 4)\n",
            "(16, 32, 32, 4)\n",
            "(16, 32, 32, 4)\n"
          ],
          "name": "stdout"
        },
        {
          "output_type": "stream",
          "text": [
            "\n",
            " 19%|█▉        | 6/31 [00:00<00:01, 18.70it/s]\u001b[A\n",
            " 26%|██▌       | 8/31 [00:00<00:01, 18.51it/s]\u001b[A"
          ],
          "name": "stderr"
        },
        {
          "output_type": "stream",
          "text": [
            "(16, 32, 32, 4)\n",
            "(16, 32, 32, 4)\n",
            "(16, 32, 32, 4)\n",
            "(15, 32, 32, 4)\n"
          ],
          "name": "stdout"
        },
        {
          "output_type": "stream",
          "text": [
            "\n",
            " 32%|███▏      | 10/31 [00:00<00:01, 17.99it/s]\u001b[A\n",
            " 39%|███▊      | 12/31 [00:00<00:01, 18.14it/s]\u001b[A"
          ],
          "name": "stderr"
        },
        {
          "output_type": "stream",
          "text": [
            "(16, 32, 32, 4)\n",
            "(16, 32, 32, 4)\n",
            "(16, 32, 32, 4)\n",
            "(16, 32, 32, 4)\n"
          ],
          "name": "stdout"
        },
        {
          "output_type": "stream",
          "text": [
            "\n",
            " 45%|████▌     | 14/31 [00:00<00:00, 18.21it/s]\u001b[A\n",
            " 52%|█████▏    | 16/31 [00:00<00:00, 18.32it/s]\u001b[A"
          ],
          "name": "stderr"
        },
        {
          "output_type": "stream",
          "text": [
            "(16, 32, 32, 4)\n",
            "(16, 32, 32, 4)\n",
            "(16, 32, 32, 4)\n",
            "(16, 32, 32, 4)\n"
          ],
          "name": "stdout"
        },
        {
          "output_type": "stream",
          "text": [
            "\n",
            " 58%|█████▊    | 18/31 [00:00<00:00, 18.30it/s]\u001b[A\n",
            " 65%|██████▍   | 20/31 [00:01<00:00, 18.34it/s]\u001b[A"
          ],
          "name": "stderr"
        },
        {
          "output_type": "stream",
          "text": [
            "(16, 32, 32, 4)\n",
            "(16, 32, 32, 4)\n",
            "(16, 32, 32, 4)\n",
            "(16, 32, 32, 4)\n"
          ],
          "name": "stdout"
        },
        {
          "output_type": "stream",
          "text": [
            "\n",
            " 71%|███████   | 22/31 [00:01<00:00, 18.26it/s]\u001b[A\n",
            " 77%|███████▋  | 24/31 [00:01<00:00, 18.41it/s]\u001b[A"
          ],
          "name": "stderr"
        },
        {
          "output_type": "stream",
          "text": [
            "(16, 32, 32, 4)\n",
            "(16, 32, 32, 4)\n",
            "(16, 32, 32, 4)\n",
            "(16, 32, 32, 4)\n"
          ],
          "name": "stdout"
        },
        {
          "output_type": "stream",
          "text": [
            "\n",
            " 84%|████████▍ | 26/31 [00:01<00:00, 18.31it/s]\u001b[A\n",
            " 90%|█████████ | 28/31 [00:01<00:00, 18.40it/s]\u001b[A"
          ],
          "name": "stderr"
        },
        {
          "output_type": "stream",
          "text": [
            "(16, 32, 32, 4)\n",
            "(16, 32, 32, 4)\n",
            "(16, 32, 32, 4)\n",
            "(16, 32, 32, 4)\n"
          ],
          "name": "stdout"
        },
        {
          "output_type": "stream",
          "text": [
            "\n",
            " 97%|█████████▋| 30/31 [00:01<00:00, 17.79it/s]\u001b[A\n",
            "100%|██████████| 31/31 [00:01<00:00, 18.11it/s]\u001b[A\n",
            "  0%|          | 0/31 [00:00<?, ?it/s]\u001b[A"
          ],
          "name": "stderr"
        },
        {
          "output_type": "stream",
          "text": [
            "(16, 32, 32, 4)\n",
            "(16, 32, 32, 4)\n",
            "(16, 32, 32, 4)\n",
            "(16, 32, 32, 4)\n"
          ],
          "name": "stdout"
        },
        {
          "output_type": "stream",
          "text": [
            "\n",
            "  6%|▋         | 2/31 [00:00<00:01, 18.53it/s]\u001b[A\n",
            " 13%|█▎        | 4/31 [00:00<00:01, 18.46it/s]\u001b[A\n",
            " 19%|█▉        | 6/31 [00:00<00:01, 18.52it/s]\u001b[A"
          ],
          "name": "stderr"
        },
        {
          "output_type": "stream",
          "text": [
            "(16, 32, 32, 4)\n",
            "(16, 32, 32, 4)\n",
            "(16, 32, 32, 4)\n",
            "(16, 32, 32, 4)\n"
          ],
          "name": "stdout"
        },
        {
          "output_type": "stream",
          "text": [
            "\n",
            " 26%|██▌       | 8/31 [00:00<00:01, 18.38it/s]\u001b[A\n",
            " 32%|███▏      | 10/31 [00:00<00:01, 18.46it/s]"
          ],
          "name": "stderr"
        },
        {
          "output_type": "stream",
          "text": [
            "(16, 32, 32, 4)\n",
            "(16, 32, 32, 4)\n",
            "(16, 32, 32, 4)\n",
            "(15, 32, 32, 4)\n"
          ],
          "name": "stdout"
        },
        {
          "output_type": "stream",
          "text": [
            "\u001b[A\n",
            " 39%|███▊      | 12/31 [00:00<00:01, 18.46it/s]\u001b[A\n",
            " 45%|████▌     | 14/31 [00:00<00:00, 18.36it/s]\u001b[A"
          ],
          "name": "stderr"
        },
        {
          "output_type": "stream",
          "text": [
            "(16, 32, 32, 4)\n",
            "(16, 32, 32, 4)\n",
            "(16, 32, 32, 4)\n",
            "(16, 32, 32, 4)\n"
          ],
          "name": "stdout"
        },
        {
          "output_type": "stream",
          "text": [
            "\n",
            " 52%|█████▏    | 16/31 [00:00<00:00, 17.85it/s]\u001b[A"
          ],
          "name": "stderr"
        },
        {
          "output_type": "stream",
          "text": [
            "(16, 32, 32, 4)\n",
            "(16, 32, 32, 4)\n",
            "(16, 32, 32, 4)\n",
            "(16, 32, 32, 4)\n"
          ],
          "name": "stdout"
        },
        {
          "output_type": "stream",
          "text": [
            "\n",
            " 58%|█████▊    | 18/31 [00:00<00:00, 18.05it/s]\u001b[A\n",
            " 65%|██████▍   | 20/31 [00:01<00:00, 18.19it/s]\u001b[A\n",
            " 71%|███████   | 22/31 [00:01<00:00, 18.49it/s]\u001b[A"
          ],
          "name": "stderr"
        },
        {
          "output_type": "stream",
          "text": [
            "(16, 32, 32, 4)\n",
            "(16, 32, 32, 4)\n",
            "(16, 32, 32, 4)\n",
            "(16, 32, 32, 4)\n"
          ],
          "name": "stdout"
        },
        {
          "output_type": "stream",
          "text": [
            "\n",
            " 77%|███████▋  | 24/31 [00:01<00:00, 18.48it/s]\u001b[A\n",
            " 84%|████████▍ | 26/31 [00:01<00:00, 18.67it/s]\u001b[A"
          ],
          "name": "stderr"
        },
        {
          "output_type": "stream",
          "text": [
            "(16, 32, 32, 4)\n",
            "(16, 32, 32, 4)\n",
            "(16, 32, 32, 4)\n",
            "(16, 32, 32, 4)\n"
          ],
          "name": "stdout"
        },
        {
          "output_type": "stream",
          "text": [
            "\n",
            " 90%|█████████ | 28/31 [00:01<00:00, 18.33it/s]\u001b[A\n",
            " 97%|█████████▋| 30/31 [00:01<00:00, 18.45it/s]"
          ],
          "name": "stderr"
        },
        {
          "output_type": "stream",
          "text": [
            "(16, 32, 32, 4)\n",
            "(16, 32, 32, 4)\n",
            "(16, 32, 32, 4)\n",
            "(16, 32, 32, 4)\n"
          ],
          "name": "stdout"
        },
        {
          "output_type": "stream",
          "text": [
            "\u001b[A\n",
            "100%|██████████| 31/31 [00:01<00:00, 18.28it/s]\u001b[A\n",
            "  0%|          | 0/31 [00:00<?, ?it/s]\u001b[A\n",
            "  6%|▋         | 2/31 [00:00<00:01, 18.79it/s]\u001b[A"
          ],
          "name": "stderr"
        },
        {
          "output_type": "stream",
          "text": [
            "(16, 32, 32, 4)\n",
            "(16, 32, 32, 4)\n",
            "(16, 32, 32, 4)\n",
            "(16, 32, 32, 4)\n"
          ],
          "name": "stdout"
        },
        {
          "output_type": "stream",
          "text": [
            "\n",
            " 13%|█▎        | 4/31 [00:00<00:01, 17.91it/s]\u001b[A\n",
            " 19%|█▉        | 6/31 [00:00<00:01, 18.10it/s]\u001b[A"
          ],
          "name": "stderr"
        },
        {
          "output_type": "stream",
          "text": [
            "(16, 32, 32, 4)\n",
            "(16, 32, 32, 4)\n",
            "(16, 32, 32, 4)\n",
            "(16, 32, 32, 4)\n"
          ],
          "name": "stdout"
        },
        {
          "output_type": "stream",
          "text": [
            "\n",
            " 26%|██▌       | 8/31 [00:00<00:01, 18.00it/s]\u001b[A\n",
            " 32%|███▏      | 10/31 [00:00<00:01, 18.33it/s]\u001b[A"
          ],
          "name": "stderr"
        },
        {
          "output_type": "stream",
          "text": [
            "(16, 32, 32, 4)\n",
            "(16, 32, 32, 4)\n",
            "(16, 32, 32, 4)\n",
            "(15, 32, 32, 4)\n"
          ],
          "name": "stdout"
        },
        {
          "output_type": "stream",
          "text": [
            "\n",
            " 39%|███▊      | 12/31 [00:00<00:01, 18.22it/s]\u001b[A\n",
            " 45%|████▌     | 14/31 [00:00<00:00, 18.27it/s]\u001b[A"
          ],
          "name": "stderr"
        },
        {
          "output_type": "stream",
          "text": [
            "(16, 32, 32, 4)\n",
            "(16, 32, 32, 4)\n",
            "(16, 32, 32, 4)\n",
            "(16, 32, 32, 4)\n"
          ],
          "name": "stdout"
        },
        {
          "output_type": "stream",
          "text": [
            "\n",
            " 52%|█████▏    | 16/31 [00:00<00:00, 18.30it/s]\u001b[A\n",
            " 58%|█████▊    | 18/31 [00:00<00:00, 18.42it/s]\u001b[A"
          ],
          "name": "stderr"
        },
        {
          "output_type": "stream",
          "text": [
            "(16, 32, 32, 4)\n",
            "(16, 32, 32, 4)\n",
            "(16, 32, 32, 4)\n",
            "(16, 32, 32, 4)\n"
          ],
          "name": "stdout"
        },
        {
          "output_type": "stream",
          "text": [
            "\n",
            " 65%|██████▍   | 20/31 [00:01<00:00, 18.36it/s]\u001b[A\n",
            " 71%|███████   | 22/31 [00:01<00:00, 18.27it/s]\u001b[A"
          ],
          "name": "stderr"
        },
        {
          "output_type": "stream",
          "text": [
            "(16, 32, 32, 4)\n",
            "(16, 32, 32, 4)\n",
            "(16, 32, 32, 4)\n",
            "(16, 32, 32, 4)\n"
          ],
          "name": "stdout"
        },
        {
          "output_type": "stream",
          "text": [
            "\n",
            " 77%|███████▋  | 24/31 [00:01<00:00, 18.15it/s]\u001b[A\n",
            " 84%|████████▍ | 26/31 [00:01<00:00, 18.39it/s]\u001b[A"
          ],
          "name": "stderr"
        },
        {
          "output_type": "stream",
          "text": [
            "(16, 32, 32, 4)\n",
            "(16, 32, 32, 4)\n",
            "(16, 32, 32, 4)\n",
            "(16, 32, 32, 4)\n"
          ],
          "name": "stdout"
        },
        {
          "output_type": "stream",
          "text": [
            "\n",
            " 90%|█████████ | 28/31 [00:01<00:00, 18.26it/s]\u001b[A\n",
            " 97%|█████████▋| 30/31 [00:01<00:00, 18.47it/s]\u001b[A"
          ],
          "name": "stderr"
        },
        {
          "output_type": "stream",
          "text": [
            "(16, 32, 32, 4)\n",
            "(16, 32, 32, 4)\n",
            "(16, 32, 32, 4)\n",
            "(16, 32, 32, 4)\n"
          ],
          "name": "stdout"
        },
        {
          "output_type": "stream",
          "text": [
            "\n",
            "100%|██████████| 31/31 [00:01<00:00, 18.13it/s]\u001b[A\n",
            "  0%|          | 0/31 [00:00<?, ?it/s]\u001b[A\n",
            "  6%|▋         | 2/31 [00:00<00:01, 17.75it/s]\u001b[A"
          ],
          "name": "stderr"
        },
        {
          "output_type": "stream",
          "text": [
            "(16, 32, 32, 4)\n",
            "(16, 32, 32, 4)\n",
            "(16, 32, 32, 4)\n",
            "(16, 32, 32, 4)\n"
          ],
          "name": "stdout"
        },
        {
          "output_type": "stream",
          "text": [
            "\n",
            " 13%|█▎        | 4/31 [00:00<00:01, 17.70it/s]\u001b[A\n",
            " 19%|█▉        | 6/31 [00:00<00:01, 17.87it/s]\u001b[A\n"
          ],
          "name": "stderr"
        },
        {
          "output_type": "stream",
          "text": [
            "(16, 32, 32, 4)\n",
            "(16, 32, 32, 4)\n",
            "(16, 32, 32, 4)\n",
            "(16, 32, 32, 4)\n"
          ],
          "name": "stdout"
        },
        {
          "output_type": "stream",
          "text": [
            " 26%|██▌       | 8/31 [00:00<00:01, 17.87it/s]\u001b[A\n",
            " 32%|███▏      | 10/31 [00:00<00:01, 17.43it/s]\u001b[A"
          ],
          "name": "stderr"
        },
        {
          "output_type": "stream",
          "text": [
            "(16, 32, 32, 4)\n",
            "(16, 32, 32, 4)\n",
            "(16, 32, 32, 4)\n",
            "(15, 32, 32, 4)\n"
          ],
          "name": "stdout"
        },
        {
          "output_type": "stream",
          "text": [
            "\n",
            " 39%|███▊      | 12/31 [00:00<00:01, 17.67it/s]\u001b[A\n",
            " 45%|████▌     | 14/31 [00:00<00:00, 18.03it/s]\u001b[A\n",
            " 52%|█████▏    | 16/31 [00:00<00:00, 18.27it/s]\u001b[A"
          ],
          "name": "stderr"
        },
        {
          "output_type": "stream",
          "text": [
            "(16, 32, 32, 4)\n",
            "(16, 32, 32, 4)\n",
            "(16, 32, 32, 4)\n",
            "(16, 32, 32, 4)\n"
          ],
          "name": "stdout"
        },
        {
          "output_type": "stream",
          "text": [
            "\n",
            " 58%|█████▊    | 18/31 [00:01<00:00, 18.22it/s]\u001b[A\n",
            " 65%|██████▍   | 20/31 [00:01<00:00, 18.46it/s]\u001b[A"
          ],
          "name": "stderr"
        },
        {
          "output_type": "stream",
          "text": [
            "(16, 32, 32, 4)\n",
            "(16, 32, 32, 4)\n",
            "(16, 32, 32, 4)\n",
            "(16, 32, 32, 4)\n"
          ],
          "name": "stdout"
        },
        {
          "output_type": "stream",
          "text": [
            "\n",
            " 71%|███████   | 22/31 [00:01<00:00, 18.39it/s]\u001b[A\n",
            " 77%|███████▋  | 24/31 [00:01<00:00, 18.49it/s]\u001b[A"
          ],
          "name": "stderr"
        },
        {
          "output_type": "stream",
          "text": [
            "(16, 32, 32, 4)\n",
            "(16, 32, 32, 4)\n",
            "(16, 32, 32, 4)\n",
            "(16, 32, 32, 4)\n"
          ],
          "name": "stdout"
        },
        {
          "output_type": "stream",
          "text": [
            "\n",
            " 84%|████████▍ | 26/31 [00:01<00:00, 18.17it/s]\u001b[A"
          ],
          "name": "stderr"
        },
        {
          "output_type": "stream",
          "text": [
            "(16, 32, 32, 4)\n",
            "(16, 32, 32, 4)\n",
            "(16, 32, 32, 4)\n",
            "(16, 32, 32, 4)\n"
          ],
          "name": "stdout"
        },
        {
          "output_type": "stream",
          "text": [
            "\n",
            " 90%|█████████ | 28/31 [00:01<00:00, 17.93it/s]\u001b[A\n",
            " 97%|█████████▋| 30/31 [00:01<00:00, 17.75it/s]\u001b[A\n",
            "100%|██████████| 31/31 [00:01<00:00, 17.96it/s]\u001b[A\n",
            "  0%|          | 0/31 [00:00<?, ?it/s]\u001b[A"
          ],
          "name": "stderr"
        },
        {
          "output_type": "stream",
          "text": [
            "(16, 32, 32, 4)\n",
            "(16, 32, 32, 4)\n",
            "(16, 32, 32, 4)\n",
            "(16, 32, 32, 4)\n"
          ],
          "name": "stdout"
        },
        {
          "output_type": "stream",
          "text": [
            "\n",
            "  6%|▋         | 2/31 [00:00<00:01, 18.15it/s]\u001b[A\n",
            " 13%|█▎        | 4/31 [00:00<00:01, 17.98it/s]\u001b[A"
          ],
          "name": "stderr"
        },
        {
          "output_type": "stream",
          "text": [
            "(16, 32, 32, 4)\n",
            "(16, 32, 32, 4)\n",
            "(16, 32, 32, 4)\n",
            "(16, 32, 32, 4)\n"
          ],
          "name": "stdout"
        },
        {
          "output_type": "stream",
          "text": [
            "\n",
            " 19%|█▉        | 6/31 [00:00<00:01, 18.14it/s]\u001b[A\n",
            " 26%|██▌       | 8/31 [00:00<00:01, 18.31it/s]\u001b[A"
          ],
          "name": "stderr"
        },
        {
          "output_type": "stream",
          "text": [
            "(16, 32, 32, 4)\n",
            "(16, 32, 32, 4)\n",
            "(16, 32, 32, 4)\n",
            "(16, 32, 32, 4)\n"
          ],
          "name": "stdout"
        },
        {
          "output_type": "stream",
          "text": [
            "\n",
            " 32%|███▏      | 10/31 [00:00<00:01, 18.20it/s]\u001b[A\n",
            " 39%|███▊      | 12/31 [00:00<00:01, 18.18it/s]\u001b[A"
          ],
          "name": "stderr"
        },
        {
          "output_type": "stream",
          "text": [
            "(16, 32, 32, 4)\n",
            "(16, 32, 32, 4)\n",
            "(16, 32, 32, 4)\n",
            "(15, 32, 32, 4)\n"
          ],
          "name": "stdout"
        },
        {
          "output_type": "stream",
          "text": [
            "\n",
            " 45%|████▌     | 14/31 [00:00<00:00, 18.31it/s]\u001b[A\n",
            " 52%|█████▏    | 16/31 [00:00<00:00, 18.11it/s]\u001b[A"
          ],
          "name": "stderr"
        },
        {
          "output_type": "stream",
          "text": [
            "(16, 32, 32, 4)\n",
            "(16, 32, 32, 4)\n",
            "(16, 32, 32, 4)\n",
            "(16, 32, 32, 4)\n"
          ],
          "name": "stdout"
        },
        {
          "output_type": "stream",
          "text": [
            "\n",
            " 58%|█████▊    | 18/31 [00:00<00:00, 18.05it/s]\u001b[A\n",
            " 65%|██████▍   | 20/31 [00:01<00:00, 18.35it/s]\u001b[A"
          ],
          "name": "stderr"
        },
        {
          "output_type": "stream",
          "text": [
            "(16, 32, 32, 4)\n",
            "(16, 32, 32, 4)\n",
            "(16, 32, 32, 4)\n",
            "(16, 32, 32, 4)\n"
          ],
          "name": "stdout"
        },
        {
          "output_type": "stream",
          "text": [
            "\n",
            " 71%|███████   | 22/31 [00:01<00:00, 18.03it/s]\u001b[A\n",
            " 77%|███████▋  | 24/31 [00:01<00:00, 18.11it/s]\u001b[A"
          ],
          "name": "stderr"
        },
        {
          "output_type": "stream",
          "text": [
            "(16, 32, 32, 4)\n",
            "(16, 32, 32, 4)\n",
            "(16, 32, 32, 4)\n",
            "(16, 32, 32, 4)\n"
          ],
          "name": "stdout"
        },
        {
          "output_type": "stream",
          "text": [
            "\n",
            " 84%|████████▍ | 26/31 [00:01<00:00, 18.07it/s]\u001b[A\n",
            " 90%|█████████ | 28/31 [00:01<00:00, 18.32it/s]\u001b[A"
          ],
          "name": "stderr"
        },
        {
          "output_type": "stream",
          "text": [
            "(16, 32, 32, 4)\n",
            "(16, 32, 32, 4)\n",
            "(16, 32, 32, 4)\n",
            "(16, 32, 32, 4)\n"
          ],
          "name": "stdout"
        },
        {
          "output_type": "stream",
          "text": [
            "\n",
            " 97%|█████████▋| 30/31 [00:01<00:00, 18.22it/s]\u001b[A\n",
            "100%|██████████| 31/31 [00:01<00:00, 18.16it/s]\u001b[A\n",
            "  0%|          | 0/31 [00:00<?, ?it/s]\u001b[A"
          ],
          "name": "stderr"
        },
        {
          "output_type": "stream",
          "text": [
            "(16, 32, 32, 4)\n",
            "(16, 32, 32, 4)\n",
            "(16, 32, 32, 4)\n",
            "(16, 32, 32, 4)\n"
          ],
          "name": "stdout"
        },
        {
          "output_type": "stream",
          "text": [
            "\n",
            "  6%|▋         | 2/31 [00:00<00:01, 18.65it/s]\u001b[A\n",
            " 13%|█▎        | 4/31 [00:00<00:01, 18.17it/s]\u001b[A"
          ],
          "name": "stderr"
        },
        {
          "output_type": "stream",
          "text": [
            "(16, 32, 32, 4)\n",
            "(16, 32, 32, 4)\n",
            "(16, 32, 32, 4)\n",
            "(16, 32, 32, 4)\n"
          ],
          "name": "stdout"
        },
        {
          "output_type": "stream",
          "text": [
            "\n",
            " 19%|█▉        | 6/31 [00:00<00:01, 18.02it/s]\u001b[A\n",
            " 26%|██▌       | 8/31 [00:00<00:01, 18.21it/s]\u001b[A\n",
            " 32%|███▏      | 10/31 [00:00<00:01, 18.25it/s]\u001b[A"
          ],
          "name": "stderr"
        },
        {
          "output_type": "stream",
          "text": [
            "(16, 32, 32, 4)\n",
            "(16, 32, 32, 4)\n",
            "(16, 32, 32, 4)\n",
            "(16, 32, 32, 4)\n"
          ],
          "name": "stdout"
        },
        {
          "output_type": "stream",
          "text": [
            "\n",
            " 39%|███▊      | 12/31 [00:00<00:01, 18.37it/s]\u001b[A\n",
            " 45%|████▌     | 14/31 [00:00<00:00, 18.48it/s]\u001b[A"
          ],
          "name": "stderr"
        },
        {
          "output_type": "stream",
          "text": [
            "(16, 32, 32, 4)\n",
            "(16, 32, 32, 4)\n",
            "(16, 32, 32, 4)\n",
            "(15, 32, 32, 4)\n"
          ],
          "name": "stdout"
        },
        {
          "output_type": "stream",
          "text": [
            "\n",
            " 52%|█████▏    | 16/31 [00:00<00:00, 18.29it/s]\u001b[A\n",
            " 58%|█████▊    | 18/31 [00:00<00:00, 18.36it/s]"
          ],
          "name": "stderr"
        },
        {
          "output_type": "stream",
          "text": [
            "(16, 32, 32, 4)\n",
            "(16, 32, 32, 4)\n",
            "(16, 32, 32, 4)\n",
            "(16, 32, 32, 4)\n"
          ],
          "name": "stdout"
        },
        {
          "output_type": "stream",
          "text": [
            "\u001b[A\n",
            " 65%|██████▍   | 20/31 [00:01<00:00, 18.34it/s]\u001b[A\n",
            " 71%|███████   | 22/31 [00:01<00:00, 18.34it/s]\u001b[A"
          ],
          "name": "stderr"
        },
        {
          "output_type": "stream",
          "text": [
            "(16, 32, 32, 4)\n",
            "(16, 32, 32, 4)\n",
            "(16, 32, 32, 4)\n",
            "(16, 32, 32, 4)\n"
          ],
          "name": "stdout"
        },
        {
          "output_type": "stream",
          "text": [
            "\n",
            " 77%|███████▋  | 24/31 [00:01<00:00, 17.87it/s]\u001b[A\n",
            " 84%|████████▍ | 26/31 [00:01<00:00, 18.10it/s]"
          ],
          "name": "stderr"
        },
        {
          "output_type": "stream",
          "text": [
            "(16, 32, 32, 4)\n",
            "(16, 32, 32, 4)\n",
            "(16, 32, 32, 4)\n",
            "(16, 32, 32, 4)\n"
          ],
          "name": "stdout"
        },
        {
          "output_type": "stream",
          "text": [
            "\u001b[A\n",
            " 90%|█████████ | 28/31 [00:01<00:00, 18.16it/s]\u001b[A\n",
            " 97%|█████████▋| 30/31 [00:01<00:00, 18.31it/s]\u001b[A"
          ],
          "name": "stderr"
        },
        {
          "output_type": "stream",
          "text": [
            "(16, 32, 32, 4)\n",
            "(16, 32, 32, 4)\n",
            "(16, 32, 32, 4)\n",
            "(16, 32, 32, 4)\n"
          ],
          "name": "stdout"
        },
        {
          "output_type": "stream",
          "text": [
            "\n",
            "100%|██████████| 31/31 [00:01<00:00, 18.09it/s]\u001b[A\n",
            "  0%|          | 0/31 [00:00<?, ?it/s]\u001b[A\n",
            "  6%|▋         | 2/31 [00:00<00:01, 18.50it/s]\u001b[A"
          ],
          "name": "stderr"
        },
        {
          "output_type": "stream",
          "text": [
            "(16, 32, 32, 4)\n",
            "(16, 32, 32, 4)\n",
            "(16, 32, 32, 4)\n",
            "(16, 32, 32, 4)\n"
          ],
          "name": "stdout"
        },
        {
          "output_type": "stream",
          "text": [
            "\n",
            " 13%|█▎        | 4/31 [00:00<00:01, 18.21it/s]\u001b[A\n",
            " 19%|█▉        | 6/31 [00:00<00:01, 18.08it/s]\u001b[A"
          ],
          "name": "stderr"
        },
        {
          "output_type": "stream",
          "text": [
            "(16, 32, 32, 4)\n",
            "(16, 32, 32, 4)\n",
            "(16, 32, 32, 4)\n",
            "(16, 32, 32, 4)\n"
          ],
          "name": "stdout"
        },
        {
          "output_type": "stream",
          "text": [
            "\n",
            " 26%|██▌       | 8/31 [00:00<00:01, 18.27it/s]\u001b[A\n",
            " 32%|███▏      | 10/31 [00:00<00:01, 18.22it/s]\u001b[A"
          ],
          "name": "stderr"
        },
        {
          "output_type": "stream",
          "text": [
            "(16, 32, 32, 4)\n",
            "(16, 32, 32, 4)\n",
            "(16, 32, 32, 4)\n",
            "(16, 32, 32, 4)\n"
          ],
          "name": "stdout"
        },
        {
          "output_type": "stream",
          "text": [
            "\n",
            " 39%|███▊      | 12/31 [00:00<00:01, 18.21it/s]\u001b[A\n",
            " 45%|████▌     | 14/31 [00:00<00:00, 18.32it/s]\u001b[A"
          ],
          "name": "stderr"
        },
        {
          "output_type": "stream",
          "text": [
            "(16, 32, 32, 4)\n",
            "(16, 32, 32, 4)\n",
            "(16, 32, 32, 4)\n",
            "(15, 32, 32, 4)\n"
          ],
          "name": "stdout"
        },
        {
          "output_type": "stream",
          "text": [
            "\n",
            " 52%|█████▏    | 16/31 [00:00<00:00, 18.24it/s]\u001b[A\n",
            " 58%|█████▊    | 18/31 [00:00<00:00, 18.01it/s]\u001b[A"
          ],
          "name": "stderr"
        },
        {
          "output_type": "stream",
          "text": [
            "(16, 32, 32, 4)\n",
            "(16, 32, 32, 4)\n",
            "(16, 32, 32, 4)\n",
            "(16, 32, 32, 4)\n"
          ],
          "name": "stdout"
        },
        {
          "output_type": "stream",
          "text": [
            "\n",
            " 65%|██████▍   | 20/31 [00:01<00:00, 18.01it/s]\u001b[A\n",
            " 71%|███████   | 22/31 [00:01<00:00, 18.02it/s]\u001b[A"
          ],
          "name": "stderr"
        },
        {
          "output_type": "stream",
          "text": [
            "(16, 32, 32, 4)\n",
            "(16, 32, 32, 4)\n",
            "(16, 32, 32, 4)\n",
            "(16, 32, 32, 4)\n"
          ],
          "name": "stdout"
        },
        {
          "output_type": "stream",
          "text": [
            "\n",
            " 77%|███████▋  | 24/31 [00:01<00:00, 18.07it/s]\u001b[A\n",
            " 84%|████████▍ | 26/31 [00:01<00:00, 18.21it/s]\u001b[A"
          ],
          "name": "stderr"
        },
        {
          "output_type": "stream",
          "text": [
            "(16, 32, 32, 4)\n",
            "(16, 32, 32, 4)\n",
            "(16, 32, 32, 4)\n",
            "(16, 32, 32, 4)\n"
          ],
          "name": "stdout"
        },
        {
          "output_type": "stream",
          "text": [
            "\n",
            " 90%|█████████ | 28/31 [00:01<00:00, 17.88it/s]\u001b[A\n",
            " 97%|█████████▋| 30/31 [00:01<00:00, 17.87it/s]\u001b[A"
          ],
          "name": "stderr"
        },
        {
          "output_type": "stream",
          "text": [
            "(16, 32, 32, 4)\n",
            "(16, 32, 32, 4)\n",
            "(16, 32, 32, 4)\n",
            "(16, 32, 32, 4)\n"
          ],
          "name": "stdout"
        },
        {
          "output_type": "stream",
          "text": [
            "\n",
            "100%|██████████| 31/31 [00:01<00:00, 17.98it/s]\u001b[A\n",
            "  0%|          | 0/31 [00:00<?, ?it/s]\u001b[A\n",
            "  6%|▋         | 2/31 [00:00<00:01, 18.30it/s]\u001b[A\n",
            " 13%|█▎        | 4/31 [00:00<00:01, 18.30it/s]\u001b[A"
          ],
          "name": "stderr"
        },
        {
          "output_type": "stream",
          "text": [
            "(16, 32, 32, 4)\n",
            "(16, 32, 32, 4)\n",
            "(16, 32, 32, 4)\n",
            "(16, 32, 32, 4)\n"
          ],
          "name": "stdout"
        },
        {
          "output_type": "stream",
          "text": [
            "\n",
            " 19%|█▉        | 6/31 [00:00<00:01, 18.04it/s]\u001b[A\n",
            " 26%|██▌       | 8/31 [00:00<00:01, 18.17it/s]"
          ],
          "name": "stderr"
        },
        {
          "output_type": "stream",
          "text": [
            "(16, 32, 32, 4)\n",
            "(16, 32, 32, 4)\n",
            "(16, 32, 32, 4)\n",
            "(16, 32, 32, 4)\n"
          ],
          "name": "stdout"
        },
        {
          "output_type": "stream",
          "text": [
            "\u001b[A\n",
            " 32%|███▏      | 10/31 [00:00<00:01, 18.04it/s]\u001b[A\n",
            " 39%|███▊      | 12/31 [00:00<00:01, 18.22it/s]"
          ],
          "name": "stderr"
        },
        {
          "output_type": "stream",
          "text": [
            "(16, 32, 32, 4)\n",
            "(16, 32, 32, 4)\n",
            "(16, 32, 32, 4)\n",
            "(16, 32, 32, 4)\n"
          ],
          "name": "stdout"
        },
        {
          "output_type": "stream",
          "text": [
            "\u001b[A\n",
            " 45%|████▌     | 14/31 [00:00<00:00, 18.13it/s]\u001b[A"
          ],
          "name": "stderr"
        },
        {
          "output_type": "stream",
          "text": [
            "(16, 32, 32, 4)\n",
            "(16, 32, 32, 4)\n",
            "(16, 32, 32, 4)\n",
            "(15, 32, 32, 4)\n"
          ],
          "name": "stdout"
        },
        {
          "output_type": "stream",
          "text": [
            "\n",
            " 52%|█████▏    | 16/31 [00:00<00:00, 17.90it/s]\u001b[A\n",
            " 58%|█████▊    | 18/31 [00:00<00:00, 18.03it/s]\u001b[A\n",
            " 65%|██████▍   | 20/31 [00:01<00:00, 18.21it/s]\u001b[A"
          ],
          "name": "stderr"
        },
        {
          "output_type": "stream",
          "text": [
            "(16, 32, 32, 4)\n",
            "(16, 32, 32, 4)\n",
            "(16, 32, 32, 4)\n",
            "(16, 32, 32, 4)\n"
          ],
          "name": "stdout"
        },
        {
          "output_type": "stream",
          "text": [
            "\n",
            " 71%|███████   | 22/31 [00:01<00:00, 18.22it/s]\u001b[A\n",
            " 77%|███████▋  | 24/31 [00:01<00:00, 18.28it/s]"
          ],
          "name": "stderr"
        },
        {
          "output_type": "stream",
          "text": [
            "(16, 32, 32, 4)\n",
            "(16, 32, 32, 4)\n",
            "(16, 32, 32, 4)\n",
            "(16, 32, 32, 4)\n"
          ],
          "name": "stdout"
        },
        {
          "output_type": "stream",
          "text": [
            "\u001b[A\n",
            " 84%|████████▍ | 26/31 [00:01<00:00, 18.38it/s]\u001b[A\n",
            " 90%|█████████ | 28/31 [00:01<00:00, 18.41it/s]\u001b[A"
          ],
          "name": "stderr"
        },
        {
          "output_type": "stream",
          "text": [
            "(16, 32, 32, 4)\n",
            "(16, 32, 32, 4)\n",
            "(16, 32, 32, 4)\n",
            "(16, 32, 32, 4)\n"
          ],
          "name": "stdout"
        },
        {
          "output_type": "stream",
          "text": [
            "\n",
            " 97%|█████████▋| 30/31 [00:01<00:00, 18.33it/s]\u001b[A\n",
            "100%|██████████| 31/31 [00:01<00:00, 18.15it/s]\u001b[A\n",
            "  0%|          | 0/31 [00:00<?, ?it/s]\u001b[A"
          ],
          "name": "stderr"
        },
        {
          "output_type": "stream",
          "text": [
            "(16, 32, 32, 4)\n",
            "(16, 32, 32, 4)\n",
            "(16, 32, 32, 4)\n",
            "(16, 32, 32, 4)\n"
          ],
          "name": "stdout"
        },
        {
          "output_type": "stream",
          "text": [
            "\n",
            "  6%|▋         | 2/31 [00:00<00:01, 19.52it/s]\u001b[A\n",
            " 13%|█▎        | 4/31 [00:00<00:01, 18.71it/s]\u001b[A"
          ],
          "name": "stderr"
        },
        {
          "output_type": "stream",
          "text": [
            "(16, 32, 32, 4)\n",
            "(16, 32, 32, 4)\n",
            "(16, 32, 32, 4)\n",
            "(16, 32, 32, 4)\n"
          ],
          "name": "stdout"
        },
        {
          "output_type": "stream",
          "text": [
            "\n",
            " 19%|█▉        | 6/31 [00:00<00:01, 18.71it/s]\u001b[A\n",
            " 26%|██▌       | 8/31 [00:00<00:01, 18.56it/s]\u001b[A"
          ],
          "name": "stderr"
        },
        {
          "output_type": "stream",
          "text": [
            "(16, 32, 32, 4)\n",
            "(16, 32, 32, 4)\n",
            "(16, 32, 32, 4)\n",
            "(16, 32, 32, 4)\n"
          ],
          "name": "stdout"
        },
        {
          "output_type": "stream",
          "text": [
            "\n",
            " 32%|███▏      | 10/31 [00:00<00:01, 18.48it/s]\u001b[A\n",
            " 39%|███▊      | 12/31 [00:00<00:01, 18.58it/s]\u001b[A"
          ],
          "name": "stderr"
        },
        {
          "output_type": "stream",
          "text": [
            "(16, 32, 32, 4)\n",
            "(16, 32, 32, 4)\n",
            "(16, 32, 32, 4)\n",
            "(16, 32, 32, 4)\n"
          ],
          "name": "stdout"
        },
        {
          "output_type": "stream",
          "text": [
            "\n",
            " 45%|████▌     | 14/31 [00:00<00:00, 18.39it/s]\u001b[A\n",
            " 52%|█████▏    | 16/31 [00:00<00:00, 18.57it/s]\u001b[A"
          ],
          "name": "stderr"
        },
        {
          "output_type": "stream",
          "text": [
            "(16, 32, 32, 4)\n",
            "(16, 32, 32, 4)\n",
            "(16, 32, 32, 4)\n",
            "(15, 32, 32, 4)\n"
          ],
          "name": "stdout"
        },
        {
          "output_type": "stream",
          "text": [
            "\n",
            " 58%|█████▊    | 18/31 [00:00<00:00, 18.41it/s]\u001b[A\n",
            " 65%|██████▍   | 20/31 [00:01<00:00, 18.53it/s]\u001b[A"
          ],
          "name": "stderr"
        },
        {
          "output_type": "stream",
          "text": [
            "(16, 32, 32, 4)\n",
            "(16, 32, 32, 4)\n",
            "(16, 32, 32, 4)\n",
            "(16, 32, 32, 4)\n"
          ],
          "name": "stdout"
        },
        {
          "output_type": "stream",
          "text": [
            "\n",
            " 71%|███████   | 22/31 [00:01<00:00, 18.38it/s]\u001b[A\n",
            " 77%|███████▋  | 24/31 [00:01<00:00, 18.33it/s]\u001b[A"
          ],
          "name": "stderr"
        },
        {
          "output_type": "stream",
          "text": [
            "(16, 32, 32, 4)\n",
            "(16, 32, 32, 4)\n",
            "(16, 32, 32, 4)\n",
            "(16, 32, 32, 4)\n"
          ],
          "name": "stdout"
        },
        {
          "output_type": "stream",
          "text": [
            "\n",
            " 84%|████████▍ | 26/31 [00:01<00:00, 18.19it/s]\u001b[A\n",
            " 90%|█████████ | 28/31 [00:01<00:00, 18.32it/s]\u001b[A"
          ],
          "name": "stderr"
        },
        {
          "output_type": "stream",
          "text": [
            "(16, 32, 32, 4)\n",
            "(16, 32, 32, 4)\n",
            "(16, 32, 32, 4)\n",
            "(16, 32, 32, 4)\n"
          ],
          "name": "stdout"
        },
        {
          "output_type": "stream",
          "text": [
            "\n",
            " 97%|█████████▋| 30/31 [00:01<00:00, 18.16it/s]\u001b[A\n",
            "100%|██████████| 31/31 [00:01<00:00, 18.23it/s]\u001b[A\n",
            "  0%|          | 0/31 [00:00<?, ?it/s]\u001b[A"
          ],
          "name": "stderr"
        },
        {
          "output_type": "stream",
          "text": [
            "(16, 32, 32, 4)\n",
            "(16, 32, 32, 4)\n",
            "(16, 32, 32, 4)\n",
            "(16, 32, 32, 4)\n"
          ],
          "name": "stdout"
        },
        {
          "output_type": "stream",
          "text": [
            "\n",
            "  6%|▋         | 2/31 [00:00<00:01, 18.56it/s]\u001b[A\n",
            " 13%|█▎        | 4/31 [00:00<00:01, 18.27it/s]\u001b[A"
          ],
          "name": "stderr"
        },
        {
          "output_type": "stream",
          "text": [
            "(16, 32, 32, 4)\n",
            "(16, 32, 32, 4)\n",
            "(16, 32, 32, 4)\n",
            "(16, 32, 32, 4)\n"
          ],
          "name": "stdout"
        },
        {
          "output_type": "stream",
          "text": [
            "\n",
            " 19%|█▉        | 6/31 [00:00<00:01, 18.07it/s]\u001b[A\n",
            " 26%|██▌       | 8/31 [00:00<00:01, 18.26it/s]\u001b[A"
          ],
          "name": "stderr"
        },
        {
          "output_type": "stream",
          "text": [
            "(16, 32, 32, 4)\n",
            "(16, 32, 32, 4)\n",
            "(16, 32, 32, 4)\n",
            "(16, 32, 32, 4)\n"
          ],
          "name": "stdout"
        },
        {
          "output_type": "stream",
          "text": [
            "\n",
            " 32%|███▏      | 10/31 [00:00<00:01, 17.73it/s]\u001b[A\n",
            " 39%|███▊      | 12/31 [00:00<00:01, 17.95it/s]\u001b[A\n"
          ],
          "name": "stderr"
        },
        {
          "output_type": "stream",
          "text": [
            "(16, 32, 32, 4)\n",
            "(16, 32, 32, 4)\n",
            "(16, 32, 32, 4)\n",
            "(16, 32, 32, 4)\n"
          ],
          "name": "stdout"
        },
        {
          "output_type": "stream",
          "text": [
            " 45%|████▌     | 14/31 [00:00<00:00, 17.93it/s]\u001b[A\n",
            " 52%|█████▏    | 16/31 [00:00<00:00, 17.91it/s]\u001b[A\n",
            " 58%|█████▊    | 18/31 [00:01<00:00, 18.18it/s]\u001b[A"
          ],
          "name": "stderr"
        },
        {
          "output_type": "stream",
          "text": [
            "(16, 32, 32, 4)\n",
            "(16, 32, 32, 4)\n",
            "(16, 32, 32, 4)\n",
            "(15, 32, 32, 4)\n"
          ],
          "name": "stdout"
        },
        {
          "output_type": "stream",
          "text": [
            "\n",
            " 65%|██████▍   | 20/31 [00:01<00:00, 18.02it/s]\u001b[A\n",
            " 71%|███████   | 22/31 [00:01<00:00, 18.22it/s]"
          ],
          "name": "stderr"
        },
        {
          "output_type": "stream",
          "text": [
            "(16, 32, 32, 4)\n",
            "(16, 32, 32, 4)\n",
            "(16, 32, 32, 4)\n",
            "(16, 32, 32, 4)\n"
          ],
          "name": "stdout"
        },
        {
          "output_type": "stream",
          "text": [
            "\u001b[A\n",
            " 77%|███████▋  | 24/31 [00:01<00:00, 18.03it/s]\u001b[A\n",
            " 84%|████████▍ | 26/31 [00:01<00:00, 18.31it/s]\u001b[A"
          ],
          "name": "stderr"
        },
        {
          "output_type": "stream",
          "text": [
            "(16, 32, 32, 4)\n",
            "(16, 32, 32, 4)\n",
            "(16, 32, 32, 4)\n",
            "(16, 32, 32, 4)\n"
          ],
          "name": "stdout"
        },
        {
          "output_type": "stream",
          "text": [
            "\n",
            " 90%|█████████ | 28/31 [00:01<00:00, 17.73it/s]\u001b[A"
          ],
          "name": "stderr"
        },
        {
          "output_type": "stream",
          "text": [
            "(16, 32, 32, 4)\n",
            "(16, 32, 32, 4)\n",
            "(16, 32, 32, 4)\n",
            "(16, 32, 32, 4)\n"
          ],
          "name": "stdout"
        },
        {
          "output_type": "stream",
          "text": [
            "\n",
            " 97%|█████████▋| 30/31 [00:01<00:00, 17.83it/s]\u001b[A\n",
            "100%|██████████| 31/31 [00:01<00:00, 17.89it/s]\u001b[A\n",
            "  0%|          | 0/31 [00:00<?, ?it/s]\u001b[A\n",
            "  6%|▋         | 2/31 [00:00<00:01, 19.16it/s]\u001b[A"
          ],
          "name": "stderr"
        },
        {
          "output_type": "stream",
          "text": [
            "(16, 32, 32, 4)\n",
            "(16, 32, 32, 4)\n",
            "(16, 32, 32, 4)\n",
            "(16, 32, 32, 4)\n"
          ],
          "name": "stdout"
        },
        {
          "output_type": "stream",
          "text": [
            "\n",
            " 13%|█▎        | 4/31 [00:00<00:01, 18.95it/s]\u001b[A\n",
            " 19%|█▉        | 6/31 [00:00<00:01, 18.88it/s]\u001b[A"
          ],
          "name": "stderr"
        },
        {
          "output_type": "stream",
          "text": [
            "(16, 32, 32, 4)\n",
            "(16, 32, 32, 4)\n",
            "(16, 32, 32, 4)\n",
            "(16, 32, 32, 4)\n"
          ],
          "name": "stdout"
        },
        {
          "output_type": "stream",
          "text": [
            "\n",
            " 26%|██▌       | 8/31 [00:00<00:01, 18.65it/s]\u001b[A\n",
            " 32%|███▏      | 10/31 [00:00<00:01, 18.61it/s]\u001b[A"
          ],
          "name": "stderr"
        },
        {
          "output_type": "stream",
          "text": [
            "(16, 32, 32, 4)\n",
            "(16, 32, 32, 4)\n",
            "(16, 32, 32, 4)\n",
            "(16, 32, 32, 4)\n"
          ],
          "name": "stdout"
        },
        {
          "output_type": "stream",
          "text": [
            "\n",
            " 39%|███▊      | 12/31 [00:00<00:01, 18.54it/s]\u001b[A\n",
            " 45%|████▌     | 14/31 [00:00<00:00, 18.55it/s]\u001b[A"
          ],
          "name": "stderr"
        },
        {
          "output_type": "stream",
          "text": [
            "(16, 32, 32, 4)\n",
            "(16, 32, 32, 4)\n",
            "(16, 32, 32, 4)\n",
            "(16, 32, 32, 4)\n"
          ],
          "name": "stdout"
        },
        {
          "output_type": "stream",
          "text": [
            "\n",
            " 52%|█████▏    | 16/31 [00:00<00:00, 17.83it/s]\u001b[A\n",
            " 58%|█████▊    | 18/31 [00:00<00:00, 17.81it/s]\u001b[A"
          ],
          "name": "stderr"
        },
        {
          "output_type": "stream",
          "text": [
            "(16, 32, 32, 4)\n",
            "(16, 32, 32, 4)\n",
            "(16, 32, 32, 4)\n",
            "(15, 32, 32, 4)\n"
          ],
          "name": "stdout"
        },
        {
          "output_type": "stream",
          "text": [
            "\n",
            " 65%|██████▍   | 20/31 [00:01<00:00, 17.85it/s]\u001b[A\n",
            " 71%|███████   | 22/31 [00:01<00:00, 18.09it/s]\u001b[A"
          ],
          "name": "stderr"
        },
        {
          "output_type": "stream",
          "text": [
            "(16, 32, 32, 4)\n",
            "(16, 32, 32, 4)\n",
            "(16, 32, 32, 4)\n",
            "(16, 32, 32, 4)\n"
          ],
          "name": "stdout"
        },
        {
          "output_type": "stream",
          "text": [
            "\n",
            " 77%|███████▋  | 24/31 [00:01<00:00, 17.95it/s]\u001b[A\n",
            " 84%|████████▍ | 26/31 [00:01<00:00, 18.07it/s]\u001b[A"
          ],
          "name": "stderr"
        },
        {
          "output_type": "stream",
          "text": [
            "(16, 32, 32, 4)\n",
            "(16, 32, 32, 4)\n",
            "(16, 32, 32, 4)\n",
            "(16, 32, 32, 4)\n"
          ],
          "name": "stdout"
        },
        {
          "output_type": "stream",
          "text": [
            "\n",
            " 90%|█████████ | 28/31 [00:01<00:00, 18.07it/s]\u001b[A\n",
            " 97%|█████████▋| 30/31 [00:01<00:00, 18.43it/s]\u001b[A\n"
          ],
          "name": "stderr"
        },
        {
          "output_type": "stream",
          "text": [
            "(16, 32, 32, 4)\n",
            "(16, 32, 32, 4)\n",
            "(16, 32, 32, 4)\n",
            "(16, 32, 32, 4)\n"
          ],
          "name": "stdout"
        },
        {
          "output_type": "stream",
          "text": [
            "\r100%|██████████| 31/31 [00:01<00:00, 18.20it/s]\u001b[A"
          ],
          "name": "stderr"
        },
        {
          "output_type": "display_data",
          "data": {
            "image/png": "[encoded data removed]",
            "text/plain": [
              "<matplotlib.figure.Figure at 0x7f0fe122db70>"
            ]
          },
          "metadata": {
            "tags": []
          }
        }
      ]
    },
    {
      "metadata": {
        "id": "VRcbqVN9xb8N",
        "colab_type": "code",
        "outputId": "32c0533e-607f-40e1-e7f2-7b14b0d3706d",
        "colab": {
          "base_uri": "https://localhost:8080/",
          "height": 655
        }
      },
      "cell_type": "code",
      "source": [
        "noise = np.random.uniform(-1, 1, size=[9, 100])\n",
        "plotGeneratedImages()"
      ],
      "execution_count": 0,
      "outputs": [
        {
          "output_type": "display_data",
          "data": {
            "image/png": "[encoded data removed]",
            "text/plain": [
              "<matplotlib.figure.Figure at 0x7f0fe340a208>"
            ]
          },
          "metadata": {
            "tags": []
          }
        }
      ]
    },
    {
      "metadata": {
        "id": "iABPuCSm1jvy",
        "colab_type": "code",
        "colab": {}
      },
      "cell_type": "code",
      "source": [
        "from google.colab import files\n",
        "import matplotlib.image as mpimg\n",
        "import uuid\n",
        "\n",
        "images = 20\n",
        "noise = np.random.uniform(-1, 1, size=[images, 100])\n",
        "generated_images = generator.predict(noise)    \n",
        "for i in range(images):\n",
        "  name = str(uuid.uuid4().hex) + '.png'\n",
        "  img = np.reshape(np.clip(generated_images[i, :],0,1),(32, 32, 4))\n",
        "  mpimg.imsave(name, img)             \n",
        "  files.download(name)\n"
      ],
      "execution_count": 0,
      "outputs": []
    },
    {
      "metadata": {
        "id": "TBSgMNzD2BuY",
        "colab_type": "code",
        "colab": {}
      },
      "cell_type": "code",
      "source": [
        ""
      ],
      "execution_count": 0,
      "outputs": []
    }
  ]
}