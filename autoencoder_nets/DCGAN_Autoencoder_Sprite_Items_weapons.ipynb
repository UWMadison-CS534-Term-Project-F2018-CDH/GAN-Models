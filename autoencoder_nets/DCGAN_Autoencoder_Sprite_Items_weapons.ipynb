{
  "nbformat": 4,
  "nbformat_minor": 0,
  "metadata": {
    "colab": {
      "name": "DCGAN_Autoencoder_Sprite_Items_weapons.ipynb",
      "version": "0.3.2",
      "provenance": [],
      "collapsed_sections": []
    },
    "kernelspec": {
      "name": "python3",
      "display_name": "Python 3"
    },
    "accelerator": "GPU"
  },
  "cells": [
    {
      "metadata": {
        "id": "pvj_92ZBWYZm",
        "colab_type": "code",
        "colab": {}
      },
      "cell_type": "code",
      "source": [
        "# Makes plots / images embedded in the file\n",
        "%matplotlib inline"
      ],
      "execution_count": 0,
      "outputs": []
    },
    {
      "metadata": {
        "id": "-oqNQ57pn6Zz",
        "colab_type": "code",
        "colab": {}
      },
      "cell_type": "code",
      "source": [
        "from zipfile import ZipFile\n",
        "from urllib.request import urlopen\n",
        "import numpy as np\n",
        "\n",
        "URL = 'https://uwmadison-cs534-term-project-f2018-cdh.github.io/assets/datasets/items.zip'\n",
        "\n",
        "url = urlopen(URL)\n",
        "output = open('items.zip','wb')\n",
        "output.write(url.read())\n",
        "output.close()\n",
        "\n",
        "zip_ref = ZipFile('items.zip', 'r')\n",
        "zip_ref.extractall('./dataset')\n",
        "zip_ref.close()"
      ],
      "execution_count": 0,
      "outputs": []
    },
    {
      "metadata": {
        "id": "HS3Oy4yPPgas",
        "colab_type": "code",
        "outputId": "7e2fa961-74da-40e6-fe48-588f46243efa",
        "colab": {
          "base_uri": "https://localhost:8080/",
          "height": 34
        }
      },
      "cell_type": "code",
      "source": [
        "# Import data and keras layers\n",
        "\n",
        "from keras import backend as k\n",
        "from keras.models import Model, Sequential\n",
        "from keras.layers import Input, Conv2D, Dense, Reshape, Conv2DTranspose, MaxPooling2D, UpSampling2D\n",
        "from keras.layers import Flatten, Dropout, BatchNormalization, Activation, SpatialDropout2D\n",
        "from keras.layers.advanced_activations import LeakyReLU\n",
        "from keras.optimizers import Adam\n",
        "from tqdm import tqdm\n",
        "import matplotlib.pyplot as plt"
      ],
      "execution_count": 0,
      "outputs": [
        {
          "output_type": "stream",
          "text": [
            "Using TensorFlow backend.\n"
          ],
          "name": "stderr"
        }
      ]
    },
    {
      "metadata": {
        "id": "J5N4lsjZCwLz",
        "colab_type": "code",
        "outputId": "6be9dd6e-a8da-48d1-a336-b6b09a891805",
        "colab": {
          "base_uri": "https://localhost:8080/",
          "height": 52
        }
      },
      "cell_type": "code",
      "source": [
        "import os\n",
        "\n",
        "files = os.listdir('./dataset/items')\n",
        "for name in files:\n",
        "    print(name)"
      ],
      "execution_count": 0,
      "outputs": [
        {
          "output_type": "stream",
          "text": [
            "items_label.npy\n",
            "items_image.npy\n"
          ],
          "name": "stdout"
        }
      ]
    },
    {
      "metadata": {
        "id": "KPQzxLn_WVXU",
        "colab_type": "code",
        "colab": {}
      },
      "cell_type": "code",
      "source": [
        "x1_raw = np.load('./dataset/items/items_image.npy')\n",
        "y1_raw = np.load('./dataset/items/items_label.npy')\n",
        "\n",
        "x1_test = np.array([])\n",
        "y1_test = np.array([])\n",
        "\n",
        "#Optimizer\n",
        "adam = Adam(lr=2e-4, beta_1=0.5)"
      ],
      "execution_count": 0,
      "outputs": []
    },
    {
      "metadata": {
        "id": "o07BtpddRPH5",
        "colab_type": "code",
        "colab": {}
      },
      "cell_type": "code",
      "source": [
        "filterLbls = ['items_weapon','items_weapons','items_weapon_ranged','items_weapon_artefact']\n",
        "#'items_wand','items_staff','items_rod'\n",
        "\n",
        "y1_train = []\n",
        "\n",
        "firstTime = True\n",
        "for i in range(y1_raw.shape[0]):\n",
        "  \n",
        "  if y1_raw[i] in filterLbls:\n",
        "    y1_train.append(y1_raw[i])\n",
        "    \n",
        "    if firstTime:\n",
        "      firstTime = False\n",
        "      raw = x1_raw[i,:,:,:]\n",
        "      x1_train = np.reshape(raw,(1,raw.shape[0],raw.shape[1],raw.shape[2]))\n",
        "    else:\n",
        "      raw = x1_raw[i,:,:,:]\n",
        "      raw = np.reshape(raw,(1,raw.shape[0],raw.shape[1],raw.shape[2]))\n",
        "      x1_train = np.concatenate((x1_train,raw), axis=0)\n",
        "    \n",
        "y1_train = np.array(y1_train)\n"
      ],
      "execution_count": 0,
      "outputs": []
    },
    {
      "metadata": {
        "id": "yOWY_c8vpPiz",
        "colab_type": "code",
        "colab": {}
      },
      "cell_type": "code",
      "source": [
        "from keras.preprocessing.image import ImageDataGenerator\n",
        "\n",
        "datagen = ImageDataGenerator(\n",
        "  featurewise_center = True,\n",
        "  featurewise_std_normalization = True,\n",
        "  rotation_range = 60,\n",
        "  width_shift_range = 0.2,\n",
        "  height_shift_range = 0.2,\n",
        "  shear_range = 0.2,\n",
        "  zoom_range = 0.2\n",
        ")\n",
        "\n",
        "datagen.fit(x1_train)"
      ],
      "execution_count": 0,
      "outputs": []
    },
    {
      "metadata": {
        "id": "1NJCTWRHQo7s",
        "colab_type": "code",
        "outputId": "03c47712-b9a7-43a6-b321-8cf57f55bc11",
        "colab": {
          "base_uri": "https://localhost:8080/",
          "height": 809
        }
      },
      "cell_type": "code",
      "source": [
        "#Encoder1\n",
        "inputShape = (32,32,4)\n",
        "\n",
        "encoder1 = Sequential()\n",
        "encoder1.add(Conv2D(16, (3,3), activation='relu', padding='same', input_shape=inputShape)) \n",
        "encoder1.add(SpatialDropout2D(0.25))\n",
        "encoder1.add(Conv2D(32, (3,3), strides=(2,2), activation='relu', padding='same'))\n",
        "encoder1.add(Conv2D(64, (3,3), strides=(2,2), activation='relu', padding='same'))\n",
        "\n",
        "print(encoder1.summary())\n",
        "\n",
        "#Decoder1\n",
        "codeShape1 = (8,8,64)\n",
        "\n",
        "decoder1 = Sequential()\n",
        "decoder1.add(Conv2DTranspose(32, (3,3), strides=(2,2), activation='relu', padding='same', input_shape=codeShape1))\n",
        "decoder1.add(Conv2DTranspose(16, (3,3), strides=(2,2), activation='relu', padding='same'))\n",
        "decoder1.add(Conv2DTranspose(4, (3,3), activation='sigmoid', padding='same'))\n",
        "\n",
        "print(decoder1.summary())\n",
        "\n",
        "#Autoencoder1\n",
        "inputImage1 = Input(shape=inputShape)\n",
        "x = encoder1(inputImage1)\n",
        "x = decoder1(x)\n",
        "autoencoder1 = Model(inputImage1, x)\n",
        "print(autoencoder1.summary())\n",
        "print(x1_train.shape)\n",
        "autoencoder1.compile(optimizer='adam', loss='binary_crossentropy')"
      ],
      "execution_count": 0,
      "outputs": [
        {
          "output_type": "stream",
          "text": [
            "_________________________________________________________________\n",
            "Layer (type)                 Output Shape              Param #   \n",
            "=================================================================\n",
            "conv2d_1 (Conv2D)            (None, 32, 32, 16)        592       \n",
            "_________________________________________________________________\n",
            "spatial_dropout2d_1 (Spatial (None, 32, 32, 16)        0         \n",
            "_________________________________________________________________\n",
            "conv2d_2 (Conv2D)            (None, 16, 16, 32)        4640      \n",
            "_________________________________________________________________\n",
            "conv2d_3 (Conv2D)            (None, 8, 8, 64)          18496     \n",
            "=================================================================\n",
            "Total params: 23,728\n",
            "Trainable params: 23,728\n",
            "Non-trainable params: 0\n",
            "_________________________________________________________________\n",
            "None\n",
            "_________________________________________________________________\n",
            "Layer (type)                 Output Shape              Param #   \n",
            "=================================================================\n",
            "conv2d_transpose_1 (Conv2DTr (None, 16, 16, 32)        18464     \n",
            "_________________________________________________________________\n",
            "conv2d_transpose_2 (Conv2DTr (None, 32, 32, 16)        4624      \n",
            "_________________________________________________________________\n",
            "conv2d_transpose_3 (Conv2DTr (None, 32, 32, 4)         580       \n",
            "=================================================================\n",
            "Total params: 23,668\n",
            "Trainable params: 23,668\n",
            "Non-trainable params: 0\n",
            "_________________________________________________________________\n",
            "None\n",
            "_________________________________________________________________\n",
            "Layer (type)                 Output Shape              Param #   \n",
            "=================================================================\n",
            "input_1 (InputLayer)         (None, 32, 32, 4)         0         \n",
            "_________________________________________________________________\n",
            "sequential_1 (Sequential)    (None, 8, 8, 64)          23728     \n",
            "_________________________________________________________________\n",
            "sequential_2 (Sequential)    (None, 32, 32, 4)         23668     \n",
            "=================================================================\n",
            "Total params: 47,396\n",
            "Trainable params: 47,396\n",
            "Non-trainable params: 0\n",
            "_________________________________________________________________\n",
            "None\n",
            "(511, 32, 32, 4)\n"
          ],
          "name": "stdout"
        }
      ]
    },
    {
      "metadata": {
        "colab_type": "code",
        "outputId": "a77cafc7-38b2-47d9-b9f1-b01c193f53ef",
        "id": "MLbwa7G6Ioas",
        "colab": {
          "base_uri": "https://localhost:8080/",
          "height": 369
        }
      },
      "cell_type": "code",
      "source": [
        "encoder1.trainable = True\n",
        "decoder1.trainable = True\n",
        "autoencoder1.trainable = True\n",
        "\n",
        "history = autoencoder1.fit(x1_train, x1_train, epochs=10, batch_size=1, shuffle=True)"
      ],
      "execution_count": 0,
      "outputs": [
        {
          "output_type": "stream",
          "text": [
            "Epoch 1/10\n",
            "511/511 [==============================] - 8s 16ms/step - loss: 0.2838\n",
            "Epoch 2/10\n",
            "511/511 [==============================] - 7s 13ms/step - loss: 0.1656\n",
            "Epoch 3/10\n",
            "511/511 [==============================] - 6s 13ms/step - loss: 0.1413\n",
            "Epoch 4/10\n",
            "511/511 [==============================] - 6s 12ms/step - loss: 0.1377\n",
            "Epoch 5/10\n",
            "511/511 [==============================] - 6s 12ms/step - loss: 0.1326\n",
            "Epoch 6/10\n",
            "511/511 [==============================] - 6s 12ms/step - loss: 0.1234\n",
            "Epoch 7/10\n",
            "511/511 [==============================] - 7s 14ms/step - loss: 0.1156\n",
            "Epoch 8/10\n",
            "511/511 [==============================] - 7s 14ms/step - loss: 0.1171\n",
            "Epoch 9/10\n",
            "511/511 [==============================] - 7s 13ms/step - loss: 0.1100\n",
            "Epoch 10/10\n",
            "511/511 [==============================] - 8s 16ms/step - loss: 0.1083\n"
          ],
          "name": "stdout"
        }
      ]
    },
    {
      "metadata": {
        "id": "01AyYVVghgjm",
        "colab_type": "code",
        "outputId": "48c87f96-d2dc-4c01-a6d0-1ad5dd46c0a3",
        "colab": {
          "base_uri": "https://localhost:8080/",
          "height": 301
        }
      },
      "cell_type": "code",
      "source": [
        "import random\n",
        "x = random.randint(0,511)\n",
        "randImg = np.reshape(x1_train[x], (1, 32, 32, 4)) \n",
        "\n",
        "resultImg = encoder1.predict(randImg, batch_size=1)\n",
        "resultImg = decoder1.predict(resultImg, batch_size=1)\n",
        "randImg = randImg.reshape(32,32,4)\n",
        "resultImg = resultImg.reshape(32,32,4)\n",
        "\n",
        "print(randImg.shape)\n",
        "print(resultImg.shape)\n",
        "from matplotlib import pyplot as plt\n",
        "origFig = plt.imshow(randImg)\n",
        "\n"
      ],
      "execution_count": 0,
      "outputs": [
        {
          "output_type": "stream",
          "text": [
            "(32, 32, 4)\n",
            "(32, 32, 4)\n"
          ],
          "name": "stdout"
        },
        {
          "output_type": "display_data",
          "data": {
            "image/png": "[encoded data removed]",
            "text/plain": [
              "<matplotlib.figure.Figure at 0x7f5ff0bcfeb8>"
            ]
          },
          "metadata": {
            "tags": []
          }
        }
      ]
    },
    {
      "metadata": {
        "id": "lELj57nii1xJ",
        "colab_type": "code",
        "outputId": "5ab535f9-d88d-4245-891b-42311eb77276",
        "colab": {
          "base_uri": "https://localhost:8080/",
          "height": 266
        }
      },
      "cell_type": "code",
      "source": [
        "resFig = plt.imshow(resultImg)"
      ],
      "execution_count": 0,
      "outputs": [
        {
          "output_type": "display_data",
          "data": {
            "image/png": "[encoded data removed]",
            "text/plain": [
              "<matplotlib.figure.Figure at 0x7f5ff0beff98>"
            ]
          },
          "metadata": {
            "tags": []
          }
        }
      ]
    },
    {
      "metadata": {
        "id": "PuJT91LTMIZX",
        "colab_type": "code",
        "outputId": "aeeb290f-c334-45de-f806-fdf4ddcdd137",
        "colab": {
          "base_uri": "https://localhost:8080/",
          "height": 439
        }
      },
      "cell_type": "code",
      "source": [
        "# AutoEncoder 2\n",
        "\n",
        "x2_train = encoder1.predict(np.reshape(x1_train,(len(x1_train),32,32,4)))\n",
        "encoder2 = Sequential()\n",
        "encoder2.add(Conv2D(64, (3,3), activation='relu', padding='same', input_shape=codeShape1)) \n",
        "encoder2.add(SpatialDropout2D(0.25))\n",
        "encoder2.add(Conv2D(128, (3,3), strides=(2,2), activation='relu', padding='same'))\n",
        "#encoder2.add(Conv2D(256, (3,3), strides=(2,2), activation='relu', padding='same'))\n",
        "\n",
        "codeShape2 = (4,4,128)\n",
        "decoder2 = Sequential()\n",
        "decoder2.add(Conv2DTranspose(64, (3,3), strides=(2,2), activation='relu', padding='same', input_shape=codeShape2))\n",
        "#decoder2.add(Conv2DTranspose(64, (3,3), strides=(2,2), activation='relu', padding='same'))\n",
        "#decoder2.add(Conv2DTranspose(4, (3,3), activation='sigmoid', padding='same'))\n",
        "\n",
        "print(encoder2.summary())\n",
        "print(decoder2.summary())\n",
        "\n",
        "inputImage2 = Input(shape=codeShape1)\n",
        "x = encoder2(inputImage2)\n",
        "x = decoder2(x)\n",
        "autoencoder2 = Model(inputImage2, x)\n",
        "autoencoder2.compile(optimizer='adam', loss='binary_crossentropy')"
      ],
      "execution_count": 0,
      "outputs": [
        {
          "output_type": "stream",
          "text": [
            "_________________________________________________________________\n",
            "Layer (type)                 Output Shape              Param #   \n",
            "=================================================================\n",
            "conv2d_4 (Conv2D)            (None, 8, 8, 64)          36928     \n",
            "_________________________________________________________________\n",
            "spatial_dropout2d_2 (Spatial (None, 8, 8, 64)          0         \n",
            "_________________________________________________________________\n",
            "conv2d_5 (Conv2D)            (None, 4, 4, 128)         73856     \n",
            "=================================================================\n",
            "Total params: 110,784\n",
            "Trainable params: 110,784\n",
            "Non-trainable params: 0\n",
            "_________________________________________________________________\n",
            "None\n",
            "_________________________________________________________________\n",
            "Layer (type)                 Output Shape              Param #   \n",
            "=================================================================\n",
            "conv2d_transpose_4 (Conv2DTr (None, 8, 8, 64)          73792     \n",
            "=================================================================\n",
            "Total params: 73,792\n",
            "Trainable params: 73,792\n",
            "Non-trainable params: 0\n",
            "_________________________________________________________________\n",
            "None\n"
          ],
          "name": "stdout"
        }
      ]
    },
    {
      "metadata": {
        "id": "Yfp0HrnTQg5p",
        "colab_type": "code",
        "outputId": "a915dca4-fd53-4184-8d44-dcd7e4d3669e",
        "colab": {
          "base_uri": "https://localhost:8080/",
          "height": 369
        }
      },
      "cell_type": "code",
      "source": [
        "encoder1.trainable = False\n",
        "decoder1.trainable = False\n",
        "autoencoder1.trainable = False\n",
        "encoder2.trainable = True\n",
        "decoder2.trainable = True\n",
        "autoencoder2.trainable = True\n",
        "\n",
        "history = autoencoder2.fit(x2_train, x2_train, epochs=10, batch_size=1, shuffle=True)"
      ],
      "execution_count": 0,
      "outputs": [
        {
          "output_type": "stream",
          "text": [
            "Epoch 1/10\n",
            "511/511 [==============================] - 5s 10ms/step - loss: -3.4571\n",
            "Epoch 2/10\n",
            "511/511 [==============================] - 5s 10ms/step - loss: -4.1726\n",
            "Epoch 3/10\n",
            "511/511 [==============================] - 4s 9ms/step - loss: -4.2921\n",
            "Epoch 4/10\n",
            "511/511 [==============================] - 5s 9ms/step - loss: -4.3728\n",
            "Epoch 5/10\n",
            "511/511 [==============================] - 4s 8ms/step - loss: -4.4195\n",
            "Epoch 6/10\n",
            "511/511 [==============================] - 4s 8ms/step - loss: -4.4558\n",
            "Epoch 7/10\n",
            "511/511 [==============================] - 5s 9ms/step - loss: -4.4810\n",
            "Epoch 8/10\n",
            "511/511 [==============================] - 5s 9ms/step - loss: -4.4977\n",
            "Epoch 9/10\n",
            "511/511 [==============================] - 5s 9ms/step - loss: -4.5179\n",
            "Epoch 10/10\n",
            "511/511 [==============================] - 4s 8ms/step - loss: -4.5294\n"
          ],
          "name": "stdout"
        }
      ]
    },
    {
      "metadata": {
        "id": "i0iNWdxhQ2Oo",
        "colab_type": "code",
        "outputId": "f9baeb5e-5a63-40c8-8892-31c163c231d0",
        "colab": {
          "base_uri": "https://localhost:8080/",
          "height": 301
        }
      },
      "cell_type": "code",
      "source": [
        "import random\n",
        "x = random.randint(0,511)\n",
        "randImg = np.reshape(x1_train[x], (1, 32, 32, 4)) \n",
        "\n",
        "resultImg = decoder1.predict(decoder2.predict(encoder2.predict(encoder1.predict(randImg))))\n",
        "randImg = randImg.reshape(32,32,4)\n",
        "resultImg = resultImg.reshape(32,32,4)\n",
        "\n",
        "print(randImg.shape)\n",
        "print(resultImg.shape)\n",
        "from matplotlib import pyplot as plt\n",
        "origFig = plt.imshow(randImg)\n"
      ],
      "execution_count": 0,
      "outputs": [
        {
          "output_type": "stream",
          "text": [
            "(32, 32, 4)\n",
            "(32, 32, 4)\n"
          ],
          "name": "stdout"
        },
        {
          "output_type": "display_data",
          "data": {
            "image/png": "[encoded data removed]",
            "text/plain": [
              "<matplotlib.figure.Figure at 0x7f5ff0b8a3c8>"
            ]
          },
          "metadata": {
            "tags": []
          }
        }
      ]
    },
    {
      "metadata": {
        "id": "iGPN-CWfRJKL",
        "colab_type": "code",
        "outputId": "41952fd3-597c-4063-88e8-704f88d6071a",
        "colab": {
          "base_uri": "https://localhost:8080/",
          "height": 266
        }
      },
      "cell_type": "code",
      "source": [
        "resFig = plt.imshow(resultImg)"
      ],
      "execution_count": 0,
      "outputs": [
        {
          "output_type": "display_data",
          "data": {
            "image/png": "[encoded data removed]",
            "text/plain": [
              "<matplotlib.figure.Figure at 0x7f5ff0b457f0>"
            ]
          },
          "metadata": {
            "tags": []
          }
        }
      ]
    },
    {
      "metadata": {
        "id": "-OzTbCdGDYqd",
        "colab_type": "code",
        "outputId": "bd15941e-b17b-4c98-bfcd-69d3c04807f0",
        "colab": {
          "base_uri": "https://localhost:8080/",
          "height": 255
        }
      },
      "cell_type": "code",
      "source": [
        "#Merge\n",
        "\n",
        "encoder = Sequential()\n",
        "encoder.add(encoder1)\n",
        "encoder.add(encoder2)\n",
        "\n",
        "decoder = Sequential()\n",
        "decoder.add(decoder2)\n",
        "decoder.add(decoder1)\n",
        "\n",
        "inputImage1 = Input(shape=inputShape)\n",
        "x = encoder(inputImage1)\n",
        "x = decoder(x)\n",
        "autoencoder = Model(inputImage1, x)\n",
        "autoencoder.compile(optimizer='adam', loss='binary_crossentropy')\n",
        "print(autoencoder.summary())"
      ],
      "execution_count": 0,
      "outputs": [
        {
          "output_type": "stream",
          "text": [
            "_________________________________________________________________\n",
            "Layer (type)                 Output Shape              Param #   \n",
            "=================================================================\n",
            "input_3 (InputLayer)         (None, 32, 32, 4)         0         \n",
            "_________________________________________________________________\n",
            "sequential_5 (Sequential)    (None, 4, 4, 128)         134512    \n",
            "_________________________________________________________________\n",
            "sequential_6 (Sequential)    (None, 32, 32, 4)         97460     \n",
            "=================================================================\n",
            "Total params: 231,972\n",
            "Trainable params: 184,576\n",
            "Non-trainable params: 47,396\n",
            "_________________________________________________________________\n",
            "None\n"
          ],
          "name": "stdout"
        }
      ]
    },
    {
      "metadata": {
        "id": "6cv9mgjPE3GF",
        "colab_type": "code",
        "outputId": "f86ffa25-5da8-4a7d-fdbf-69e41781c0b4",
        "colab": {
          "base_uri": "https://localhost:8080/",
          "height": 3417
        }
      },
      "cell_type": "code",
      "source": [
        "encoder.trainable = True\n",
        "decoder.trainable = True\n",
        "autoencoder.trainable = True\n",
        "history = autoencoder.fit(x1_train, x1_train, epochs=100, batch_size=1, shuffle=True)"
      ],
      "execution_count": 0,
      "outputs": [
        {
          "output_type": "stream",
          "text": [
            "Epoch 1/100\n",
            "511/511 [==============================] - 6s 12ms/step - loss: 0.1791\n",
            "Epoch 2/100\n",
            "511/511 [==============================] - 6s 11ms/step - loss: 0.1706\n",
            "Epoch 3/100\n",
            "511/511 [==============================] - 6s 11ms/step - loss: 0.1613\n",
            "Epoch 4/100\n",
            "511/511 [==============================] - 6s 12ms/step - loss: 0.1573\n",
            "Epoch 5/100\n",
            "511/511 [==============================] - 6s 11ms/step - loss: 0.1556\n",
            "Epoch 6/100\n",
            "511/511 [==============================] - 6s 12ms/step - loss: 0.1581\n",
            "Epoch 7/100\n",
            "511/511 [==============================] - 6s 11ms/step - loss: 0.1544\n",
            "Epoch 8/100\n",
            "511/511 [==============================] - 5s 10ms/step - loss: 0.1528\n",
            "Epoch 9/100\n",
            "511/511 [==============================] - 6s 11ms/step - loss: 0.1523\n",
            "Epoch 10/100\n",
            "511/511 [==============================] - 6s 12ms/step - loss: 0.1509\n",
            "Epoch 11/100\n",
            "511/511 [==============================] - 6s 11ms/step - loss: 0.1512\n",
            "Epoch 12/100\n",
            "511/511 [==============================] - 6s 12ms/step - loss: 0.1498\n",
            "Epoch 13/100\n",
            "511/511 [==============================] - 6s 12ms/step - loss: 0.1512\n",
            "Epoch 14/100\n",
            "511/511 [==============================] - 6s 12ms/step - loss: 0.1524\n",
            "Epoch 15/100\n",
            "511/511 [==============================] - 6s 11ms/step - loss: 0.1479\n",
            "Epoch 16/100\n",
            "511/511 [==============================] - 6s 11ms/step - loss: 0.1480\n",
            "Epoch 17/100\n",
            "511/511 [==============================] - 6s 11ms/step - loss: 0.1483\n",
            "Epoch 18/100\n",
            "511/511 [==============================] - 6s 12ms/step - loss: 0.1471\n",
            "Epoch 19/100\n",
            "511/511 [==============================] - 5s 10ms/step - loss: 0.1474\n",
            "Epoch 20/100\n",
            "511/511 [==============================] - 5s 10ms/step - loss: 0.1473\n",
            "Epoch 21/100\n",
            "511/511 [==============================] - 5s 10ms/step - loss: 0.1468\n",
            "Epoch 22/100\n",
            "511/511 [==============================] - 5s 10ms/step - loss: 0.1469\n",
            "Epoch 23/100\n",
            "511/511 [==============================] - 5s 10ms/step - loss: 0.1469\n",
            "Epoch 24/100\n",
            "511/511 [==============================] - 5s 10ms/step - loss: 0.1460\n",
            "Epoch 25/100\n",
            "511/511 [==============================] - 5s 10ms/step - loss: 0.1456\n",
            "Epoch 26/100\n",
            "511/511 [==============================] - 5s 10ms/step - loss: 0.1458\n",
            "Epoch 27/100\n",
            "511/511 [==============================] - 5s 10ms/step - loss: 0.1453\n",
            "Epoch 28/100\n",
            "511/511 [==============================] - 5s 10ms/step - loss: 0.1463\n",
            "Epoch 29/100\n",
            "511/511 [==============================] - 6s 11ms/step - loss: 0.1458\n",
            "Epoch 30/100\n",
            "511/511 [==============================] - 6s 11ms/step - loss: 0.1460\n",
            "Epoch 31/100\n",
            "511/511 [==============================] - 6s 11ms/step - loss: 0.1453\n",
            "Epoch 32/100\n",
            "511/511 [==============================] - 6s 12ms/step - loss: 0.1481\n",
            "Epoch 33/100\n",
            "511/511 [==============================] - 6s 11ms/step - loss: 0.1460\n",
            "Epoch 34/100\n",
            "511/511 [==============================] - 6s 11ms/step - loss: 0.1531\n",
            "Epoch 35/100\n",
            "511/511 [==============================] - 6s 11ms/step - loss: 0.1461\n",
            "Epoch 36/100\n",
            "511/511 [==============================] - 6s 11ms/step - loss: 0.1457\n",
            "Epoch 37/100\n",
            "511/511 [==============================] - 5s 10ms/step - loss: 0.1449\n",
            "Epoch 38/100\n",
            "511/511 [==============================] - 5s 11ms/step - loss: 0.1448\n",
            "Epoch 39/100\n",
            "511/511 [==============================] - 5s 10ms/step - loss: 0.1445\n",
            "Epoch 40/100\n",
            "511/511 [==============================] - 5s 10ms/step - loss: 0.1441\n",
            "Epoch 41/100\n",
            "511/511 [==============================] - 5s 10ms/step - loss: 0.1445\n",
            "Epoch 42/100\n",
            "511/511 [==============================] - 5s 10ms/step - loss: 0.1448\n",
            "Epoch 43/100\n",
            "511/511 [==============================] - 5s 10ms/step - loss: 0.1450\n",
            "Epoch 44/100\n",
            "511/511 [==============================] - 5s 10ms/step - loss: 0.1446\n",
            "Epoch 45/100\n",
            "511/511 [==============================] - 5s 10ms/step - loss: 0.1445\n",
            "Epoch 46/100\n",
            "511/511 [==============================] - 5s 10ms/step - loss: 0.1444\n",
            "Epoch 47/100\n",
            "511/511 [==============================] - 5s 10ms/step - loss: 0.1443\n",
            "Epoch 48/100\n",
            "511/511 [==============================] - 5s 10ms/step - loss: 0.1451\n",
            "Epoch 49/100\n",
            "511/511 [==============================] - 5s 10ms/step - loss: 0.1440\n",
            "Epoch 50/100\n",
            "511/511 [==============================] - 5s 10ms/step - loss: 0.1440\n",
            "Epoch 51/100\n",
            "511/511 [==============================] - 5s 10ms/step - loss: 0.1443\n",
            "Epoch 52/100\n",
            "511/511 [==============================] - 5s 10ms/step - loss: 0.1467\n",
            "Epoch 53/100\n",
            "511/511 [==============================] - 5s 10ms/step - loss: 0.1442\n",
            "Epoch 54/100\n",
            "511/511 [==============================] - 5s 10ms/step - loss: 0.1444\n",
            "Epoch 55/100\n",
            "511/511 [==============================] - 5s 10ms/step - loss: 0.1441\n",
            "Epoch 56/100\n",
            "511/511 [==============================] - 5s 10ms/step - loss: 0.1442\n",
            "Epoch 57/100\n",
            "511/511 [==============================] - 5s 10ms/step - loss: 0.1446\n",
            "Epoch 58/100\n",
            "511/511 [==============================] - 5s 10ms/step - loss: 0.1439\n",
            "Epoch 59/100\n",
            "511/511 [==============================] - 5s 10ms/step - loss: 0.1437\n",
            "Epoch 60/100\n",
            "511/511 [==============================] - 5s 10ms/step - loss: 0.1440\n",
            "Epoch 61/100\n",
            "511/511 [==============================] - 6s 11ms/step - loss: 0.1438\n",
            "Epoch 62/100\n",
            "511/511 [==============================] - 5s 10ms/step - loss: 0.1462\n",
            "Epoch 63/100\n",
            "511/511 [==============================] - 5s 10ms/step - loss: 0.1440\n",
            "Epoch 64/100\n",
            "511/511 [==============================] - 5s 10ms/step - loss: 0.1444\n",
            "Epoch 65/100\n",
            "511/511 [==============================] - 5s 10ms/step - loss: 0.1442\n",
            "Epoch 66/100\n",
            "511/511 [==============================] - 5s 10ms/step - loss: 0.1445\n",
            "Epoch 67/100\n",
            "511/511 [==============================] - 5s 10ms/step - loss: 0.1436\n",
            "Epoch 68/100\n",
            "511/511 [==============================] - 5s 10ms/step - loss: 0.1434\n",
            "Epoch 69/100\n",
            "511/511 [==============================] - 5s 10ms/step - loss: 0.1434\n",
            "Epoch 70/100\n",
            "511/511 [==============================] - 5s 10ms/step - loss: 0.1435\n",
            "Epoch 71/100\n",
            "511/511 [==============================] - 5s 10ms/step - loss: 0.1435\n",
            "Epoch 72/100\n",
            "511/511 [==============================] - 5s 9ms/step - loss: 0.1437\n",
            "Epoch 73/100\n",
            "511/511 [==============================] - 5s 10ms/step - loss: 0.1433\n",
            "Epoch 74/100\n",
            "511/511 [==============================] - 5s 10ms/step - loss: 0.1433\n",
            "Epoch 75/100\n",
            "511/511 [==============================] - 5s 10ms/step - loss: 0.1436\n",
            "Epoch 76/100\n",
            "511/511 [==============================] - 5s 10ms/step - loss: 0.1433\n",
            "Epoch 77/100\n",
            "511/511 [==============================] - 5s 10ms/step - loss: 0.1431\n",
            "Epoch 78/100\n",
            "511/511 [==============================] - 5s 10ms/step - loss: 0.1436\n",
            "Epoch 79/100\n",
            "511/511 [==============================] - 5s 10ms/step - loss: 0.1440\n",
            "Epoch 80/100\n",
            "511/511 [==============================] - 5s 10ms/step - loss: 0.1442\n",
            "Epoch 81/100\n",
            "511/511 [==============================] - 5s 10ms/step - loss: 0.1433\n",
            "Epoch 82/100\n",
            "511/511 [==============================] - 6s 11ms/step - loss: 0.1432\n",
            "Epoch 83/100\n",
            "511/511 [==============================] - 6s 11ms/step - loss: 0.1428\n",
            "Epoch 84/100\n",
            "511/511 [==============================] - 6s 11ms/step - loss: 0.1431\n",
            "Epoch 85/100\n",
            "511/511 [==============================] - 6s 11ms/step - loss: 0.1438\n",
            "Epoch 86/100\n",
            "511/511 [==============================] - 5s 10ms/step - loss: 0.1431\n",
            "Epoch 87/100\n",
            "511/511 [==============================] - 5s 10ms/step - loss: 0.1427\n",
            "Epoch 88/100\n",
            "511/511 [==============================] - 5s 10ms/step - loss: 0.1427\n",
            "Epoch 89/100\n",
            "511/511 [==============================] - 5s 10ms/step - loss: 0.1435\n",
            "Epoch 90/100\n",
            "511/511 [==============================] - 5s 10ms/step - loss: 0.1430\n",
            "Epoch 91/100\n",
            "511/511 [==============================] - 5s 10ms/step - loss: 0.1441\n",
            "Epoch 92/100\n",
            "511/511 [==============================] - 5s 10ms/step - loss: 0.1435\n",
            "Epoch 93/100\n",
            "511/511 [==============================] - 5s 10ms/step - loss: 0.1429\n",
            "Epoch 94/100\n",
            "511/511 [==============================] - 5s 10ms/step - loss: 0.1437\n",
            "Epoch 95/100\n",
            "511/511 [==============================] - 5s 10ms/step - loss: 0.1433\n",
            "Epoch 96/100\n",
            "511/511 [==============================] - 5s 10ms/step - loss: 0.1432\n",
            "Epoch 97/100\n",
            "511/511 [==============================] - 5s 10ms/step - loss: 0.1442\n",
            "Epoch 98/100\n",
            "511/511 [==============================] - 5s 10ms/step - loss: 0.1441\n",
            "Epoch 99/100\n",
            "511/511 [==============================] - 5s 10ms/step - loss: 0.1438\n",
            "Epoch 100/100\n",
            "511/511 [==============================] - 5s 10ms/step - loss: 0.1432\n"
          ],
          "name": "stdout"
        }
      ]
    },
    {
      "metadata": {
        "id": "NgFnhbInFKD4",
        "colab_type": "code",
        "outputId": "8ec633a9-4d58-425c-9174-8a02d1af1a95",
        "colab": {
          "base_uri": "https://localhost:8080/",
          "height": 300
        }
      },
      "cell_type": "code",
      "source": [
        "import random\n",
        "x = random.randint(0,511)\n",
        "randImg = np.reshape(x1_train[x], (1, 32, 32, 4)) \n",
        "\n",
        "resultImg = autoencoder.predict(randImg, batch_size=1)\n",
        "randImg = randImg.reshape(32,32,4)\n",
        "resultImg = resultImg.reshape(32,32,4)\n",
        "\n",
        "print(randImg.shape)\n",
        "print(resultImg.shape)\n",
        "from matplotlib import pyplot as plt\n",
        "origFig = plt.imshow(randImg)"
      ],
      "execution_count": 0,
      "outputs": [
        {
          "output_type": "stream",
          "text": [
            "(32, 32, 4)\n",
            "(32, 32, 4)\n"
          ],
          "name": "stdout"
        },
        {
          "output_type": "display_data",
          "data": {
            "image/png": "[encoded data removed]",
            "text/plain": [
              "<matplotlib.figure.Figure at 0x7fa732cc2978>"
            ]
          },
          "metadata": {
            "tags": []
          }
        }
      ]
    },
    {
      "metadata": {
        "id": "vyM0ylE-FPhT",
        "colab_type": "code",
        "outputId": "469039fb-17b9-4194-f736-c5245f53e8a2",
        "colab": {
          "base_uri": "https://localhost:8080/",
          "height": 266
        }
      },
      "cell_type": "code",
      "source": [
        "resFig = plt.imshow(resultImg)"
      ],
      "execution_count": 0,
      "outputs": [
        {
          "output_type": "display_data",
          "data": {
            "image/png": "[encoded data removed]",
            "text/plain": [
              "<matplotlib.figure.Figure at 0x7fa73cd48a90>"
            ]
          },
          "metadata": {
            "tags": []
          }
        }
      ]
    },
    {
      "metadata": {
        "id": "Hd_pBeu5Pga_",
        "colab_type": "code",
        "outputId": "00f06b04-4a1f-4a00-cb75-52dcad2897c3",
        "colab": {
          "base_uri": "https://localhost:8080/",
          "height": 357
        }
      },
      "cell_type": "code",
      "source": [
        "# Creating the generator\n",
        "generator = Sequential()\n",
        "generator.add(Dense(512*2*2, activation='relu', input_dim = 100))\n",
        "generator.add(BatchNormalization())\n",
        "generator.add(Reshape((2, 2, 512)))\n",
        "generator.add(Conv2DTranspose(128, (5,5), strides=(2,2), padding='same', activation='relu'))\n",
        "generator.add(BatchNormalization())\n",
        "generator.add(Conv2DTranspose(64, (5, 5), strides=(2,2), padding='same', activation='relu'))\n",
        "\n",
        "print(generator.summary())\n",
        "generator.compile(loss = 'binary_crossentropy', optimizer = adam)  "
      ],
      "execution_count": 0,
      "outputs": [
        {
          "output_type": "stream",
          "text": [
            "_________________________________________________________________\n",
            "Layer (type)                 Output Shape              Param #   \n",
            "=================================================================\n",
            "dense_1 (Dense)              (None, 2048)              206848    \n",
            "_________________________________________________________________\n",
            "batch_normalization_1 (Batch (None, 2048)              8192      \n",
            "_________________________________________________________________\n",
            "reshape_1 (Reshape)          (None, 2, 2, 512)         0         \n",
            "_________________________________________________________________\n",
            "conv2d_transpose_5 (Conv2DTr (None, 4, 4, 128)         1638528   \n",
            "_________________________________________________________________\n",
            "batch_normalization_2 (Batch (None, 4, 4, 128)         512       \n",
            "_________________________________________________________________\n",
            "conv2d_transpose_6 (Conv2DTr (None, 8, 8, 64)          204864    \n",
            "=================================================================\n",
            "Total params: 2,058,944\n",
            "Trainable params: 2,054,592\n",
            "Non-trainable params: 4,352\n",
            "_________________________________________________________________\n",
            "None\n"
          ],
          "name": "stdout"
        }
      ]
    },
    {
      "metadata": {
        "id": "VzDKYRjNPgbH",
        "colab_type": "code",
        "outputId": "bea2836b-a714-4913-e5b0-2673d4f22988",
        "colab": {
          "base_uri": "https://localhost:8080/",
          "height": 459
        }
      },
      "cell_type": "code",
      "source": [
        "# Creating the discriminator\n",
        "discriminator = Sequential()\n",
        "discriminator.add(Conv2D(64, kernel_size = (5, 5), strides = (2, 2), padding = 'same', input_shape = (8, 8, 64)))\n",
        "discriminator.add(LeakyReLU(0.2))\n",
        "discriminator.add(Conv2D(128, kernel_size = (5, 5), strides = (2, 2), padding = 'same'))\n",
        "discriminator.add(LeakyReLU(0.2))\n",
        "discriminator.add(Conv2D(256, kernel_size = (5, 5), strides = (2, 2), padding = 'same'))\n",
        "discriminator.add(LeakyReLU(0.2))\n",
        "discriminator.add(Flatten())\n",
        "discriminator.add(Dropout(0.3))\n",
        "discriminator.add(Dense(1, activation = 'sigmoid'))\n",
        "\n",
        "print(discriminator.summary())\n",
        "discriminator.compile(loss = 'binary_crossentropy', optimizer = adam) "
      ],
      "execution_count": 0,
      "outputs": [
        {
          "output_type": "stream",
          "text": [
            "_________________________________________________________________\n",
            "Layer (type)                 Output Shape              Param #   \n",
            "=================================================================\n",
            "conv2d_6 (Conv2D)            (None, 4, 4, 64)          102464    \n",
            "_________________________________________________________________\n",
            "leaky_re_lu_1 (LeakyReLU)    (None, 4, 4, 64)          0         \n",
            "_________________________________________________________________\n",
            "conv2d_7 (Conv2D)            (None, 2, 2, 128)         204928    \n",
            "_________________________________________________________________\n",
            "leaky_re_lu_2 (LeakyReLU)    (None, 2, 2, 128)         0         \n",
            "_________________________________________________________________\n",
            "conv2d_8 (Conv2D)            (None, 1, 1, 256)         819456    \n",
            "_________________________________________________________________\n",
            "leaky_re_lu_3 (LeakyReLU)    (None, 1, 1, 256)         0         \n",
            "_________________________________________________________________\n",
            "flatten_1 (Flatten)          (None, 256)               0         \n",
            "_________________________________________________________________\n",
            "dropout_1 (Dropout)          (None, 256)               0         \n",
            "_________________________________________________________________\n",
            "dense_2 (Dense)              (None, 1)                 257       \n",
            "=================================================================\n",
            "Total params: 1,127,105\n",
            "Trainable params: 1,127,105\n",
            "Non-trainable params: 0\n",
            "_________________________________________________________________\n",
            "None\n"
          ],
          "name": "stdout"
        }
      ]
    },
    {
      "metadata": {
        "id": "nqgkD7H1PgbO",
        "colab_type": "code",
        "outputId": "89c1df43-3d1b-4ec5-b5ba-4b4c28cf49c5",
        "colab": {
          "base_uri": "https://localhost:8080/",
          "height": 1322
        }
      },
      "cell_type": "code",
      "source": [
        "# Create the GAN\n",
        "decoder.trainable = False\n",
        "encoder.trainale = False\n",
        "discriminator.trainable = False\n",
        "gan = Sequential()\n",
        "gan.add(generator)\n",
        "gan.add(decoder)\n",
        "gan.add(encoder)\n",
        "gan.add(discriminator)\n",
        "\n",
        "encoder.trainable = False\n",
        "decoder.trainable = False\n",
        "autoencoder.trainable = False\n",
        "\n",
        "gan.compile(loss = 'binary_crossentropy', optimizer = adam)\n",
        "print(gan.summary())"
      ],
      "execution_count": 0,
      "outputs": [
        {
          "output_type": "error",
          "ename": "ValueError",
          "evalue": "ignored",
          "traceback": [
            "\u001b[0;31m---------------------------------------------------------------------------\u001b[0m",
            "\u001b[0;31mValueError\u001b[0m                                Traceback (most recent call last)",
            "\u001b[0;32m<ipython-input-22-43dce96eae6b>\u001b[0m in \u001b[0;36m<module>\u001b[0;34m()\u001b[0m\n\u001b[1;32m      4\u001b[0m \u001b[0mgan\u001b[0m \u001b[0;34m=\u001b[0m \u001b[0mSequential\u001b[0m\u001b[0;34m(\u001b[0m\u001b[0;34m)\u001b[0m\u001b[0;34m\u001b[0m\u001b[0;34m\u001b[0m\u001b[0m\n\u001b[1;32m      5\u001b[0m \u001b[0mgan\u001b[0m\u001b[0;34m.\u001b[0m\u001b[0madd\u001b[0m\u001b[0;34m(\u001b[0m\u001b[0mgenerator\u001b[0m\u001b[0;34m)\u001b[0m\u001b[0;34m\u001b[0m\u001b[0;34m\u001b[0m\u001b[0m\n\u001b[0;32m----> 6\u001b[0;31m \u001b[0mgan\u001b[0m\u001b[0;34m.\u001b[0m\u001b[0madd\u001b[0m\u001b[0;34m(\u001b[0m\u001b[0mdecoder\u001b[0m\u001b[0;34m)\u001b[0m\u001b[0;34m\u001b[0m\u001b[0;34m\u001b[0m\u001b[0m\n\u001b[0m\u001b[1;32m      7\u001b[0m \u001b[0mgan\u001b[0m\u001b[0;34m.\u001b[0m\u001b[0madd\u001b[0m\u001b[0;34m(\u001b[0m\u001b[0mencoder\u001b[0m\u001b[0;34m)\u001b[0m\u001b[0;34m\u001b[0m\u001b[0;34m\u001b[0m\u001b[0m\n\u001b[1;32m      8\u001b[0m \u001b[0mgan\u001b[0m\u001b[0;34m.\u001b[0m\u001b[0madd\u001b[0m\u001b[0;34m(\u001b[0m\u001b[0mdiscriminator\u001b[0m\u001b[0;34m)\u001b[0m\u001b[0;34m\u001b[0m\u001b[0;34m\u001b[0m\u001b[0m\n",
            "\u001b[0;32m/usr/local/lib/python3.6/dist-packages/keras/engine/sequential.py\u001b[0m in \u001b[0;36madd\u001b[0;34m(self, layer)\u001b[0m\n\u001b[1;32m    179\u001b[0m                 \u001b[0mself\u001b[0m\u001b[0;34m.\u001b[0m\u001b[0minputs\u001b[0m \u001b[0;34m=\u001b[0m \u001b[0mnetwork\u001b[0m\u001b[0;34m.\u001b[0m\u001b[0mget_source_inputs\u001b[0m\u001b[0;34m(\u001b[0m\u001b[0mself\u001b[0m\u001b[0;34m.\u001b[0m\u001b[0moutputs\u001b[0m\u001b[0;34m[\u001b[0m\u001b[0;36m0\u001b[0m\u001b[0;34m]\u001b[0m\u001b[0;34m)\u001b[0m\u001b[0;34m\u001b[0m\u001b[0;34m\u001b[0m\u001b[0m\n\u001b[1;32m    180\u001b[0m         \u001b[0;32melif\u001b[0m \u001b[0mself\u001b[0m\u001b[0;34m.\u001b[0m\u001b[0moutputs\u001b[0m\u001b[0;34m:\u001b[0m\u001b[0;34m\u001b[0m\u001b[0;34m\u001b[0m\u001b[0m\n\u001b[0;32m--> 181\u001b[0;31m             \u001b[0moutput_tensor\u001b[0m \u001b[0;34m=\u001b[0m \u001b[0mlayer\u001b[0m\u001b[0;34m(\u001b[0m\u001b[0mself\u001b[0m\u001b[0;34m.\u001b[0m\u001b[0moutputs\u001b[0m\u001b[0;34m[\u001b[0m\u001b[0;36m0\u001b[0m\u001b[0;34m]\u001b[0m\u001b[0;34m)\u001b[0m\u001b[0;34m\u001b[0m\u001b[0;34m\u001b[0m\u001b[0m\n\u001b[0m\u001b[1;32m    182\u001b[0m             \u001b[0;32mif\u001b[0m \u001b[0misinstance\u001b[0m\u001b[0;34m(\u001b[0m\u001b[0moutput_tensor\u001b[0m\u001b[0;34m,\u001b[0m \u001b[0mlist\u001b[0m\u001b[0;34m)\u001b[0m\u001b[0;34m:\u001b[0m\u001b[0;34m\u001b[0m\u001b[0;34m\u001b[0m\u001b[0m\n\u001b[1;32m    183\u001b[0m                 raise TypeError('All layers in a Sequential model '\n",
            "\u001b[0;32m/usr/local/lib/python3.6/dist-packages/keras/engine/base_layer.py\u001b[0m in \u001b[0;36m__call__\u001b[0;34m(self, inputs, **kwargs)\u001b[0m\n\u001b[1;32m    455\u001b[0m             \u001b[0;31m# Actually call the layer,\u001b[0m\u001b[0;34m\u001b[0m\u001b[0;34m\u001b[0m\u001b[0;34m\u001b[0m\u001b[0m\n\u001b[1;32m    456\u001b[0m             \u001b[0;31m# collecting output(s), mask(s), and shape(s).\u001b[0m\u001b[0;34m\u001b[0m\u001b[0;34m\u001b[0m\u001b[0;34m\u001b[0m\u001b[0m\n\u001b[0;32m--> 457\u001b[0;31m             \u001b[0moutput\u001b[0m \u001b[0;34m=\u001b[0m \u001b[0mself\u001b[0m\u001b[0;34m.\u001b[0m\u001b[0mcall\u001b[0m\u001b[0;34m(\u001b[0m\u001b[0minputs\u001b[0m\u001b[0;34m,\u001b[0m \u001b[0;34m**\u001b[0m\u001b[0mkwargs\u001b[0m\u001b[0;34m)\u001b[0m\u001b[0;34m\u001b[0m\u001b[0;34m\u001b[0m\u001b[0m\n\u001b[0m\u001b[1;32m    458\u001b[0m             \u001b[0moutput_mask\u001b[0m \u001b[0;34m=\u001b[0m \u001b[0mself\u001b[0m\u001b[0;34m.\u001b[0m\u001b[0mcompute_mask\u001b[0m\u001b[0;34m(\u001b[0m\u001b[0minputs\u001b[0m\u001b[0;34m,\u001b[0m \u001b[0mprevious_mask\u001b[0m\u001b[0;34m)\u001b[0m\u001b[0;34m\u001b[0m\u001b[0;34m\u001b[0m\u001b[0m\n\u001b[1;32m    459\u001b[0m \u001b[0;34m\u001b[0m\u001b[0m\n",
            "\u001b[0;32m/usr/local/lib/python3.6/dist-packages/keras/engine/network.py\u001b[0m in \u001b[0;36mcall\u001b[0;34m(self, inputs, mask)\u001b[0m\n\u001b[1;32m    562\u001b[0m             \u001b[0;32mreturn\u001b[0m \u001b[0mself\u001b[0m\u001b[0;34m.\u001b[0m\u001b[0m_output_tensor_cache\u001b[0m\u001b[0;34m[\u001b[0m\u001b[0mcache_key\u001b[0m\u001b[0;34m]\u001b[0m\u001b[0;34m\u001b[0m\u001b[0;34m\u001b[0m\u001b[0m\n\u001b[1;32m    563\u001b[0m         \u001b[0;32melse\u001b[0m\u001b[0;34m:\u001b[0m\u001b[0;34m\u001b[0m\u001b[0;34m\u001b[0m\u001b[0m\n\u001b[0;32m--> 564\u001b[0;31m             \u001b[0moutput_tensors\u001b[0m\u001b[0;34m,\u001b[0m \u001b[0m_\u001b[0m\u001b[0;34m,\u001b[0m \u001b[0m_\u001b[0m \u001b[0;34m=\u001b[0m \u001b[0mself\u001b[0m\u001b[0;34m.\u001b[0m\u001b[0mrun_internal_graph\u001b[0m\u001b[0;34m(\u001b[0m\u001b[0minputs\u001b[0m\u001b[0;34m,\u001b[0m \u001b[0mmasks\u001b[0m\u001b[0;34m)\u001b[0m\u001b[0;34m\u001b[0m\u001b[0;34m\u001b[0m\u001b[0m\n\u001b[0m\u001b[1;32m    565\u001b[0m             \u001b[0;32mreturn\u001b[0m \u001b[0moutput_tensors\u001b[0m\u001b[0;34m\u001b[0m\u001b[0;34m\u001b[0m\u001b[0m\n\u001b[1;32m    566\u001b[0m \u001b[0;34m\u001b[0m\u001b[0m\n",
            "\u001b[0;32m/usr/local/lib/python3.6/dist-packages/keras/engine/network.py\u001b[0m in \u001b[0;36mrun_internal_graph\u001b[0;34m(self, inputs, masks)\u001b[0m\n\u001b[1;32m    719\u001b[0m                                     \u001b[0mkwargs\u001b[0m\u001b[0;34m[\u001b[0m\u001b[0;34m'mask'\u001b[0m\u001b[0;34m]\u001b[0m \u001b[0;34m=\u001b[0m \u001b[0mcomputed_mask\u001b[0m\u001b[0;34m\u001b[0m\u001b[0;34m\u001b[0m\u001b[0m\n\u001b[1;32m    720\u001b[0m                             output_tensors = to_list(\n\u001b[0;32m--> 721\u001b[0;31m                                 layer.call(computed_tensor, **kwargs))\n\u001b[0m\u001b[1;32m    722\u001b[0m                             output_masks = layer.compute_mask(computed_tensor,\n\u001b[1;32m    723\u001b[0m                                                               computed_mask)\n",
            "\u001b[0;32m/usr/local/lib/python3.6/dist-packages/keras/engine/network.py\u001b[0m in \u001b[0;36mcall\u001b[0;34m(self, inputs, mask)\u001b[0m\n\u001b[1;32m    562\u001b[0m             \u001b[0;32mreturn\u001b[0m \u001b[0mself\u001b[0m\u001b[0;34m.\u001b[0m\u001b[0m_output_tensor_cache\u001b[0m\u001b[0;34m[\u001b[0m\u001b[0mcache_key\u001b[0m\u001b[0;34m]\u001b[0m\u001b[0;34m\u001b[0m\u001b[0;34m\u001b[0m\u001b[0m\n\u001b[1;32m    563\u001b[0m         \u001b[0;32melse\u001b[0m\u001b[0;34m:\u001b[0m\u001b[0;34m\u001b[0m\u001b[0;34m\u001b[0m\u001b[0m\n\u001b[0;32m--> 564\u001b[0;31m             \u001b[0moutput_tensors\u001b[0m\u001b[0;34m,\u001b[0m \u001b[0m_\u001b[0m\u001b[0;34m,\u001b[0m \u001b[0m_\u001b[0m \u001b[0;34m=\u001b[0m \u001b[0mself\u001b[0m\u001b[0;34m.\u001b[0m\u001b[0mrun_internal_graph\u001b[0m\u001b[0;34m(\u001b[0m\u001b[0minputs\u001b[0m\u001b[0;34m,\u001b[0m \u001b[0mmasks\u001b[0m\u001b[0;34m)\u001b[0m\u001b[0;34m\u001b[0m\u001b[0;34m\u001b[0m\u001b[0m\n\u001b[0m\u001b[1;32m    565\u001b[0m             \u001b[0;32mreturn\u001b[0m \u001b[0moutput_tensors\u001b[0m\u001b[0;34m\u001b[0m\u001b[0;34m\u001b[0m\u001b[0m\n\u001b[1;32m    566\u001b[0m \u001b[0;34m\u001b[0m\u001b[0m\n",
            "\u001b[0;32m/usr/local/lib/python3.6/dist-packages/keras/engine/network.py\u001b[0m in \u001b[0;36mrun_internal_graph\u001b[0;34m(self, inputs, masks)\u001b[0m\n\u001b[1;32m    719\u001b[0m                                     \u001b[0mkwargs\u001b[0m\u001b[0;34m[\u001b[0m\u001b[0;34m'mask'\u001b[0m\u001b[0;34m]\u001b[0m \u001b[0;34m=\u001b[0m \u001b[0mcomputed_mask\u001b[0m\u001b[0;34m\u001b[0m\u001b[0;34m\u001b[0m\u001b[0m\n\u001b[1;32m    720\u001b[0m                             output_tensors = to_list(\n\u001b[0;32m--> 721\u001b[0;31m                                 layer.call(computed_tensor, **kwargs))\n\u001b[0m\u001b[1;32m    722\u001b[0m                             output_masks = layer.compute_mask(computed_tensor,\n\u001b[1;32m    723\u001b[0m                                                               computed_mask)\n",
            "\u001b[0;32m/usr/local/lib/python3.6/dist-packages/keras/layers/convolutional.py\u001b[0m in \u001b[0;36mcall\u001b[0;34m(self, inputs)\u001b[0m\n\u001b[1;32m    851\u001b[0m             \u001b[0mpadding\u001b[0m\u001b[0;34m=\u001b[0m\u001b[0mself\u001b[0m\u001b[0;34m.\u001b[0m\u001b[0mpadding\u001b[0m\u001b[0;34m,\u001b[0m\u001b[0;34m\u001b[0m\u001b[0;34m\u001b[0m\u001b[0m\n\u001b[1;32m    852\u001b[0m             \u001b[0mdata_format\u001b[0m\u001b[0;34m=\u001b[0m\u001b[0mself\u001b[0m\u001b[0;34m.\u001b[0m\u001b[0mdata_format\u001b[0m\u001b[0;34m,\u001b[0m\u001b[0;34m\u001b[0m\u001b[0;34m\u001b[0m\u001b[0m\n\u001b[0;32m--> 853\u001b[0;31m             dilation_rate=self.dilation_rate)\n\u001b[0m\u001b[1;32m    854\u001b[0m \u001b[0;34m\u001b[0m\u001b[0m\n\u001b[1;32m    855\u001b[0m         \u001b[0;32mif\u001b[0m \u001b[0mself\u001b[0m\u001b[0;34m.\u001b[0m\u001b[0muse_bias\u001b[0m\u001b[0;34m:\u001b[0m\u001b[0;34m\u001b[0m\u001b[0;34m\u001b[0m\u001b[0m\n",
            "\u001b[0;32m/usr/local/lib/python3.6/dist-packages/keras/backend/tensorflow_backend.py\u001b[0m in \u001b[0;36mconv2d_transpose\u001b[0;34m(x, kernel, output_shape, strides, padding, data_format, dilation_rate)\u001b[0m\n\u001b[1;32m   3707\u001b[0m         x = tf.nn.conv2d_transpose(x, kernel, output_shape, strides,\n\u001b[1;32m   3708\u001b[0m                                    \u001b[0mpadding\u001b[0m\u001b[0;34m=\u001b[0m\u001b[0mpadding\u001b[0m\u001b[0;34m,\u001b[0m\u001b[0;34m\u001b[0m\u001b[0;34m\u001b[0m\u001b[0m\n\u001b[0;32m-> 3709\u001b[0;31m                                    data_format=tf_data_format)\n\u001b[0m\u001b[1;32m   3710\u001b[0m     \u001b[0;32melse\u001b[0m\u001b[0;34m:\u001b[0m\u001b[0;34m\u001b[0m\u001b[0;34m\u001b[0m\u001b[0m\n\u001b[1;32m   3711\u001b[0m         \u001b[0;32massert\u001b[0m \u001b[0mdilation_rate\u001b[0m\u001b[0;34m[\u001b[0m\u001b[0;36m0\u001b[0m\u001b[0;34m]\u001b[0m \u001b[0;34m==\u001b[0m \u001b[0mdilation_rate\u001b[0m\u001b[0;34m[\u001b[0m\u001b[0;36m1\u001b[0m\u001b[0;34m]\u001b[0m\u001b[0;34m\u001b[0m\u001b[0;34m\u001b[0m\u001b[0m\n",
            "\u001b[0;32m/usr/local/lib/python3.6/dist-packages/tensorflow/python/ops/nn_ops.py\u001b[0m in \u001b[0;36mconv2d_transpose\u001b[0;34m(value, filter, output_shape, strides, padding, data_format, name)\u001b[0m\n\u001b[1;32m   1226\u001b[0m       raise ValueError(\"input channels does not match filter's input channels, \"\n\u001b[1;32m   1227\u001b[0m                        \"{} != {}\".format(value.get_shape()[axis],\n\u001b[0;32m-> 1228\u001b[0;31m                                          filter.get_shape()[3]))\n\u001b[0m\u001b[1;32m   1229\u001b[0m \u001b[0;34m\u001b[0m\u001b[0m\n\u001b[1;32m   1230\u001b[0m     \u001b[0moutput_shape_\u001b[0m \u001b[0;34m=\u001b[0m \u001b[0mops\u001b[0m\u001b[0;34m.\u001b[0m\u001b[0mconvert_to_tensor\u001b[0m\u001b[0;34m(\u001b[0m\u001b[0moutput_shape\u001b[0m\u001b[0;34m,\u001b[0m \u001b[0mname\u001b[0m\u001b[0;34m=\u001b[0m\u001b[0;34m\"output_shape\"\u001b[0m\u001b[0;34m)\u001b[0m\u001b[0;34m\u001b[0m\u001b[0;34m\u001b[0m\u001b[0m\n",
            "\u001b[0;31mValueError\u001b[0m: input channels does not match filter's input channels, 64 != 128"
          ]
        }
      ]
    },
    {
      "metadata": {
        "id": "LH0ETe4zhzNo",
        "colab_type": "code",
        "colab": {}
      },
      "cell_type": "code",
      "source": [
        "# Visualize generated data\n",
        "def plotGeneratedImages():\n",
        "  generated_images = decoder.predict(generator.predict(noise))\n",
        "  fig = plt.figure(figsize=(9, 9))        \n",
        "  for i in range(9 if generated_images.shape[0] > 9 else generated_images.shape[0]):\n",
        "    plt.subplot(3, 3, i+1)\n",
        "    img = np.clip(generated_images[i, :],0,1)\n",
        "    img = img.reshape((32, 32, 4))\n",
        "    plt.tight_layout()\n",
        "    plt.imshow(img)\n",
        "    plt.axis('off')"
      ],
      "execution_count": 0,
      "outputs": []
    },
    {
      "metadata": {
        "scrolled": false,
        "id": "P84lxNCePgbg",
        "colab_type": "code",
        "colab": {}
      },
      "cell_type": "code",
      "source": [
        "epochs = 1000\n",
        "batch_size = 128\n",
        "\n",
        "batch_count = int(x1_train.shape[0] / batch_size)\n",
        "\n",
        "iterator = datagen.flow(x1_train, batch_size=batch_size)\n",
        "\n",
        "for epoch in range(epochs):\n",
        "\n",
        "    for index in tqdm(range(batch_count)):\n",
        "        \n",
        "        # Real images\n",
        "        image_batch = x1_train[index * batch_size: (index + 1) * batch_size]\n",
        "        #image_batch = iterator.next()\n",
        "        \n",
        "        # Get initial random input for generator\n",
        "        noise = np.random.uniform(-1, 1, size=[batch_size, 100])\n",
        "        \n",
        "        # Generating images\n",
        "        generated_data = generator.predict_on_batch(noise)\n",
        "        generated_data = decoder.predict_on_batch(generated_data)\n",
        "\n",
        "        # Train discriminator\n",
        "        X = np.concatenate((image_batch,generated_data))\n",
        "        y = np.concatenate((np.zeros(image_batch.shape[0]),np.ones(batch_size)))\n",
        "        \n",
        "        X = encoder.predict_on_batch(X)\n",
        "        \n",
        "        discriminator.trainable = True\n",
        "        discriminator.train_on_batch(x=X, y=y)\n",
        "        \n",
        "        # Train generator \n",
        "        y = np.zeros(batch_size)\n",
        "        discriminator.trainable = False\n",
        "        gan.train_on_batch(x=noise, y=y)\n",
        "        \n",
        "        img = generated_images = decoder.predict(generator.predict(noise))\n",
        "        \n",
        "    \n",
        "plotGeneratedImages()\n"
      ],
      "execution_count": 0,
      "outputs": []
    },
    {
      "metadata": {
        "id": "VRcbqVN9xb8N",
        "colab_type": "code",
        "colab": {}
      },
      "cell_type": "code",
      "source": [
        "noise = np.random.uniform(-1, 1, size=[9, 100])\n",
        "plotGeneratedImages()"
      ],
      "execution_count": 0,
      "outputs": []
    },
    {
      "metadata": {
        "id": "m13S4wuIyJ2q",
        "colab_type": "code",
        "colab": {}
      },
      "cell_type": "code",
      "source": [
        ""
      ],
      "execution_count": 0,
      "outputs": []
    }
  ]
}